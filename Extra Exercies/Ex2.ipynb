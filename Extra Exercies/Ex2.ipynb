{
 "cells": [
  {
   "cell_type": "code",
   "execution_count": 44,
   "metadata": {},
   "outputs": [],
   "source": [
    "import numpy as np\n",
    "import scipy.linalg"
   ]
  },
  {
   "cell_type": "code",
   "execution_count": 56,
   "metadata": {},
   "outputs": [],
   "source": [
    "# Cau 1"
   ]
  },
  {
   "cell_type": "code",
   "execution_count": 45,
   "metadata": {},
   "outputs": [
    {
     "output_type": "execute_result",
     "data": {
      "text/plain": "array([[ 9, 10,  1,  3,  3],\n       [ 6, 10,  3,  4,  4],\n       [ 8,  3,  8,  6,  2],\n       [10,  7,  5,  7,  6],\n       [ 2,  2,  7,  7,  9]])"
     },
     "metadata": {},
     "execution_count": 45
    }
   ],
   "source": [
    "A = np.random.randint(1,11,size=(5,5))\n",
    "A"
   ]
  },
  {
   "cell_type": "code",
   "execution_count": 46,
   "metadata": {},
   "outputs": [
    {
     "output_type": "execute_result",
     "data": {
      "text/plain": "(array([28.18978835+0.j        ,  0.56294919+0.j        ,\n         5.76209578+3.44961517j,  5.76209578-3.44961517j,\n         2.72307091+0.j        ]),\n array([[-3.93301888e-01+0.j        , -1.41158457e-01+0.j        ,\n          3.01646762e-01+0.183942j  ,  3.01646762e-01-0.183942j  ,\n          1.52398629e-01+0.j        ],\n        [-4.16502177e-01+0.j        ,  2.82869320e-04+0.j        ,\n          3.79344992e-02+0.08448473j,  3.79344992e-02-0.08448473j,\n         -2.66040185e-01+0.j        ],\n        [-4.23878509e-01+0.j        , -4.43937131e-01+0.j        ,\n          2.35212049e-01-0.47860353j,  2.35212049e-01+0.47860353j,\n         -7.50106899e-01+0.j        ],\n        [-5.47443984e-01+0.j        ,  8.35488927e-01+0.j        ,\n          2.03745104e-02+0.02624495j,  2.03745104e-02-0.02624495j,\n          4.75312549e-01+0.j        ],\n        [-4.38715916e-01+0.j        , -2.91465756e-01+0.j        ,\n         -7.62304339e-01+0.j        , -7.62304339e-01-0.j        ,\n          3.42658573e-01+0.j        ]]))"
     },
     "metadata": {},
     "execution_count": 46
    }
   ],
   "source": [
    "scipy.linalg.eig(A)"
   ]
  },
  {
   "cell_type": "code",
   "execution_count": 47,
   "metadata": {},
   "outputs": [],
   "source": [
    "eig_value, eig_vector = scipy.linalg.eig(A)"
   ]
  },
  {
   "cell_type": "code",
   "execution_count": 48,
   "metadata": {},
   "outputs": [
    {
     "output_type": "execute_result",
     "data": {
      "text/plain": "array([-11.08709698+0.j, -11.74110823+0.j, -11.94904544+0.j,\n       -15.43233005+0.j, -12.36730883+0.j])"
     },
     "metadata": {},
     "execution_count": 48
    }
   ],
   "source": [
    "A @ eig_vector[:,0]"
   ]
  },
  {
   "cell_type": "code",
   "execution_count": 52,
   "metadata": {},
   "outputs": [
    {
     "output_type": "execute_result",
     "data": {
      "text/plain": "array([-11.08709698+0.j, -11.74110823+0.j, -11.94904544+0.j,\n       -15.43233005+0.j, -12.36730883+0.j])"
     },
     "metadata": {},
     "execution_count": 52
    }
   ],
   "source": [
    "eig_value[0] * eig_vector[:,0]"
   ]
  },
  {
   "cell_type": "code",
   "execution_count": 55,
   "metadata": {},
   "outputs": [
    {
     "output_type": "execute_result",
     "data": {
      "text/plain": "True"
     },
     "metadata": {},
     "execution_count": 55
    }
   ],
   "source": [
    "np.allclose(A @ eig_vector[:,0], eig_value[0] * eig_vector[:,0])"
   ]
  },
  {
   "cell_type": "code",
   "execution_count": 63,
   "metadata": {},
   "outputs": [
    {
     "output_type": "execute_result",
     "data": {
      "text/plain": "array([[ 9., 10.,  1.,  3.,  3.],\n       [ 6., 10.,  3.,  4.,  4.],\n       [ 8.,  3.,  8.,  6.,  2.],\n       [10.,  7.,  5.,  7.,  6.],\n       [ 2.,  2.,  7.,  7.,  9.]])"
     },
     "metadata": {},
     "execution_count": 63
    }
   ],
   "source": [
    "A1 = eig_vector @ np.diag(eig_value) @ np.linalg.inv(eig_vector)\n",
    "A1.astype(float)"
   ]
  },
  {
   "cell_type": "code",
   "execution_count": 64,
   "metadata": {},
   "outputs": [
    {
     "output_type": "execute_result",
     "data": {
      "text/plain": "True"
     },
     "metadata": {},
     "execution_count": 64
    }
   ],
   "source": [
    "np.allclose(A1, A)"
   ]
  },
  {
   "cell_type": "code",
   "execution_count": 65,
   "metadata": {},
   "outputs": [],
   "source": [
    "# Cau 2"
   ]
  },
  {
   "cell_type": "code",
   "execution_count": 69,
   "metadata": {},
   "outputs": [
    {
     "output_type": "execute_result",
     "data": {
      "text/plain": "array([[4, 6, 2, 9],\n       [3, 7, 3, 3],\n       [8, 5, 2, 9],\n       [8, 1, 6, 4]])"
     },
     "metadata": {},
     "execution_count": 69
    }
   ],
   "source": [
    "P = np.random.randint(1,10,size=(4,4))\n",
    "P"
   ]
  },
  {
   "cell_type": "code",
   "execution_count": 71,
   "metadata": {},
   "outputs": [
    {
     "output_type": "execute_result",
     "data": {
      "text/plain": "array([[137,  87, 147,  86],\n       [ 87,  76,  92,  61],\n       [147,  92, 174, 117],\n       [ 86,  61, 117, 117]])"
     },
     "metadata": {},
     "execution_count": 71
    }
   ],
   "source": [
    "S = P @ P.T\n",
    "S"
   ]
  },
  {
   "cell_type": "code",
   "execution_count": 72,
   "metadata": {},
   "outputs": [],
   "source": [
    "q, lamda = scipy.linalg.eig(S)"
   ]
  },
  {
   "cell_type": "code",
   "execution_count": 73,
   "metadata": {},
   "outputs": [
    {
     "output_type": "execute_result",
     "data": {
      "text/plain": "array([437.04868896+0.j,  44.80206927+0.j,   2.65073783+0.j,\n        19.49850395+0.j])"
     },
     "metadata": {},
     "execution_count": 73
    }
   ],
   "source": [
    "q"
   ]
  },
  {
   "cell_type": "code",
   "execution_count": 74,
   "metadata": {},
   "outputs": [
    {
     "output_type": "execute_result",
     "data": {
      "text/plain": "array([[-0.53616521, -0.45159393, -0.67574867,  0.22793313],\n       [-0.36219822, -0.31099676,  0.20718859, -0.85391238],\n       [-0.62227051, -0.02178158,  0.65347702,  0.43043322],\n       [-0.44058906,  0.83598415, -0.27093248, -0.18332315]])"
     },
     "metadata": {},
     "execution_count": 74
    }
   ],
   "source": [
    "lamda"
   ]
  },
  {
   "cell_type": "code",
   "execution_count": null,
   "metadata": {},
   "outputs": [],
   "source": []
  }
 ],
 "metadata": {
  "language_info": {
   "codemirror_mode": {
    "name": "ipython",
    "version": 3
   },
   "file_extension": ".py",
   "mimetype": "text/x-python",
   "name": "python",
   "nbconvert_exporter": "python",
   "pygments_lexer": "ipython3",
   "version": "3.7.7-final"
  },
  "orig_nbformat": 2,
  "kernelspec": {
   "name": "python37764bitailearncondac55bf7adc40a450a9629c3e2b471f312",
   "display_name": "Python 3.7.7 64-bit ('ai_learn': conda)"
  }
 },
 "nbformat": 4,
 "nbformat_minor": 2
}