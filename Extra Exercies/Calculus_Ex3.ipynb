{
 "metadata": {
  "language_info": {
   "codemirror_mode": {
    "name": "ipython",
    "version": 3
   },
   "file_extension": ".py",
   "mimetype": "text/x-python",
   "name": "python",
   "nbconvert_exporter": "python",
   "pygments_lexer": "ipython3",
   "version": "3.7.7-final"
  },
  "orig_nbformat": 2,
  "kernelspec": {
   "name": "python37764bitailearncondac55bf7adc40a450a9629c3e2b471f312",
   "display_name": "Python 3.7.7 64-bit ('ai_learn': conda)"
  }
 },
 "nbformat": 4,
 "nbformat_minor": 2,
 "cells": [
  {
   "cell_type": "code",
   "execution_count": 1,
   "metadata": {},
   "outputs": [],
   "source": [
    "import sympy as sp"
   ]
  },
  {
   "cell_type": "code",
   "execution_count": 12,
   "metadata": {},
   "outputs": [],
   "source": [
    "# Cau 1.a"
   ]
  },
  {
   "cell_type": "code",
   "execution_count": 2,
   "metadata": {},
   "outputs": [],
   "source": [
    "x = sp.Symbol('x')"
   ]
  },
  {
   "cell_type": "code",
   "execution_count": 3,
   "metadata": {},
   "outputs": [],
   "source": [
    "f = 4* x**3 + 3* x**2"
   ]
  },
  {
   "cell_type": "code",
   "execution_count": 4,
   "metadata": {},
   "outputs": [],
   "source": [
    "g = 5* x**6 + 4* x"
   ]
  },
  {
   "cell_type": "code",
   "execution_count": 5,
   "metadata": {},
   "outputs": [
    {
     "output_type": "execute_result",
     "data": {
      "text/plain": "12*x**2 + 6*x",
      "text/latex": "$\\displaystyle 12 x^{2} + 6 x$"
     },
     "metadata": {},
     "execution_count": 5
    }
   ],
   "source": [
    "f_x = sp.diff(f, x)\n",
    "f_x"
   ]
  },
  {
   "cell_type": "code",
   "execution_count": 6,
   "metadata": {},
   "outputs": [
    {
     "output_type": "execute_result",
     "data": {
      "text/plain": "30*x**5 + 4",
      "text/latex": "$\\displaystyle 30 x^{5} + 4$"
     },
     "metadata": {},
     "execution_count": 6
    }
   ],
   "source": [
    "g_x = sp.diff(g, x)\n",
    "g_x"
   ]
  },
  {
   "cell_type": "code",
   "execution_count": 8,
   "metadata": {},
   "outputs": [
    {
     "output_type": "execute_result",
     "data": {
      "text/plain": "(12*x**2 + 6*x)*(30*x**5 + 4)",
      "text/latex": "$\\displaystyle \\left(12 x^{2} + 6 x\\right) \\left(30 x^{5} + 4\\right)$"
     },
     "metadata": {},
     "execution_count": 8
    }
   ],
   "source": [
    "f_x * g_x"
   ]
  },
  {
   "cell_type": "code",
   "execution_count": 9,
   "metadata": {},
   "outputs": [
    {
     "output_type": "execute_result",
     "data": {
      "text/plain": "57840",
      "text/latex": "$\\displaystyle 57840$"
     },
     "metadata": {},
     "execution_count": 9
    }
   ],
   "source": [
    "f_x.subs({x:2}) * g_x.subs({x:2})"
   ]
  },
  {
   "cell_type": "code",
   "execution_count": 10,
   "metadata": {},
   "outputs": [
    {
     "output_type": "execute_result",
     "data": {
      "text/plain": "(12*x**2 + 6*x)*(5*x**6 + 4*x) + (4*x**3 + 3*x**2)*(30*x**5 + 4)",
      "text/latex": "$\\displaystyle \\left(12 x^{2} + 6 x\\right) \\left(5 x^{6} + 4 x\\right) + \\left(4 x^{3} + 3 x^{2}\\right) \\left(30 x^{5} + 4\\right)$"
     },
     "metadata": {},
     "execution_count": 10
    }
   ],
   "source": [
    "fg_x = sp.diff(f*g, x)\n",
    "fg_x"
   ]
  },
  {
   "cell_type": "code",
   "execution_count": 11,
   "metadata": {},
   "outputs": [
    {
     "output_type": "execute_result",
     "data": {
      "text/plain": "62096",
      "text/latex": "$\\displaystyle 62096$"
     },
     "metadata": {},
     "execution_count": 11
    }
   ],
   "source": [
    "fg_x.subs({x:2})"
   ]
  },
  {
   "cell_type": "code",
   "execution_count": 13,
   "metadata": {},
   "outputs": [],
   "source": [
    "# Cau 1.b"
   ]
  },
  {
   "cell_type": "code",
   "execution_count": 14,
   "metadata": {},
   "outputs": [
    {
     "output_type": "execute_result",
     "data": {
      "text/plain": "(12*x**2 + 6*x)/(30*x**5 + 4)",
      "text/latex": "$\\displaystyle \\frac{12 x^{2} + 6 x}{30 x^{5} + 4}$"
     },
     "metadata": {},
     "execution_count": 14
    }
   ],
   "source": [
    "f_x / g_x"
   ]
  },
  {
   "cell_type": "code",
   "execution_count": 15,
   "metadata": {},
   "outputs": [
    {
     "output_type": "execute_result",
     "data": {
      "text/plain": "15/241",
      "text/latex": "$\\displaystyle \\frac{15}{241}$"
     },
     "metadata": {},
     "execution_count": 15
    }
   ],
   "source": [
    "f_x.subs({x:2}) / g_x.subs({x:2})"
   ]
  },
  {
   "cell_type": "code",
   "execution_count": 16,
   "metadata": {},
   "outputs": [
    {
     "output_type": "execute_result",
     "data": {
      "text/plain": "(12*x**2 + 6*x)/(5*x**6 + 4*x) + (4*x**3 + 3*x**2)*(-30*x**5 - 4)/(5*x**6 + 4*x)**2",
      "text/latex": "$\\displaystyle \\frac{12 x^{2} + 6 x}{5 x^{6} + 4 x} + \\frac{\\left(4 x^{3} + 3 x^{2}\\right) \\left(- 30 x^{5} - 4\\right)}{\\left(5 x^{6} + 4 x\\right)^{2}}$"
     },
     "metadata": {},
     "execution_count": 16
    }
   ],
   "source": [
    "f_divide_g_x = sp.diff(f/g, x)\n",
    "f_divide_g_x"
   ]
  },
  {
   "cell_type": "code",
   "execution_count": 17,
   "metadata": {},
   "outputs": [
    {
     "output_type": "execute_result",
     "data": {
      "text/plain": "-1421/6724",
      "text/latex": "$\\displaystyle - \\frac{1421}{6724}$"
     },
     "metadata": {},
     "execution_count": 17
    }
   ],
   "source": [
    "f_divide_g_x.subs({x:2})"
   ]
  },
  {
   "cell_type": "code",
   "execution_count": 18,
   "metadata": {},
   "outputs": [],
   "source": [
    "# Cau 2:"
   ]
  },
  {
   "cell_type": "code",
   "execution_count": 37,
   "metadata": {},
   "outputs": [],
   "source": [
    "h = sp.cbrt(x**2) * (2*x - x**2)\n",
    "k = (6* x**3 - x) * (10*x - 20)"
   ]
  },
  {
   "cell_type": "code",
   "execution_count": 38,
   "metadata": {},
   "outputs": [],
   "source": [
    "h_x = sp.diff(h, x)\n",
    "k_x = sp.diff(k, x)\n",
    "hk_x = sp.diff(h*k, x)\n",
    "h_divide_k_x = sp.diff(h/k, x)"
   ]
  },
  {
   "cell_type": "code",
   "execution_count": 39,
   "metadata": {},
   "outputs": [
    {
     "output_type": "execute_result",
     "data": {
      "text/plain": "(2 - 2*x)*(x**2)**(1/3) + 2*(-x**2 + 2*x)*(x**2)**(1/3)/(3*x)",
      "text/latex": "$\\displaystyle \\left(2 - 2 x\\right) \\sqrt[3]{x^{2}} + \\frac{2 \\left(- x^{2} + 2 x\\right) \\sqrt[3]{x^{2}}}{3 x}$"
     },
     "metadata": {},
     "execution_count": 39
    }
   ],
   "source": [
    "h_x"
   ]
  },
  {
   "cell_type": "code",
   "execution_count": 40,
   "metadata": {},
   "outputs": [
    {
     "output_type": "execute_result",
     "data": {
      "text/plain": "60*x**3 - 10*x + (10*x - 20)*(18*x**2 - 1)",
      "text/latex": "$\\displaystyle 60 x^{3} - 10 x + \\left(10 x - 20\\right) \\left(18 x^{2} - 1\\right)$"
     },
     "metadata": {},
     "execution_count": 40
    }
   ],
   "source": [
    "k_x"
   ]
  },
  {
   "cell_type": "code",
   "execution_count": 41,
   "metadata": {},
   "outputs": [
    {
     "output_type": "execute_result",
     "data": {
      "text/plain": "-44800*3**(2/3)/3",
      "text/latex": "$\\displaystyle - \\frac{44800 \\cdot 3^{\\frac{2}{3}}}{3}$"
     },
     "metadata": {},
     "execution_count": 41
    }
   ],
   "source": [
    "h_x.subs({x:3}) * k_x.subs({x:3})"
   ]
  },
  {
   "cell_type": "code",
   "execution_count": 42,
   "metadata": {},
   "outputs": [
    {
     "output_type": "execute_result",
     "data": {
      "text/plain": "-17020*3**(2/3)",
      "text/latex": "$\\displaystyle - 17020 \\cdot 3^{\\frac{2}{3}}$"
     },
     "metadata": {},
     "execution_count": 42
    }
   ],
   "source": [
    "hk_x.subs({x:3})"
   ]
  },
  {
   "cell_type": "code",
   "execution_count": 43,
   "metadata": {},
   "outputs": [
    {
     "output_type": "execute_result",
     "data": {
      "text/plain": "-7*3**(2/3)/4800",
      "text/latex": "$\\displaystyle - \\frac{7 \\cdot 3^{\\frac{2}{3}}}{4800}$"
     },
     "metadata": {},
     "execution_count": 43
    }
   ],
   "source": [
    "h_x.subs({x:3}) / k_x.subs({x:3})"
   ]
  },
  {
   "cell_type": "code",
   "execution_count": 44,
   "metadata": {},
   "outputs": [
    {
     "output_type": "execute_result",
     "data": {
      "text/plain": "109*3**(2/3)/126405",
      "text/latex": "$\\displaystyle \\frac{109 \\cdot 3^{\\frac{2}{3}}}{126405}$"
     },
     "metadata": {},
     "execution_count": 44
    }
   ],
   "source": [
    "h_divide_k_x.subs({x:3})"
   ]
  },
  {
   "cell_type": "code",
   "execution_count": null,
   "metadata": {},
   "outputs": [],
   "source": []
  }
 ]
}