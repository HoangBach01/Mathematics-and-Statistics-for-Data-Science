{
 "cells": [
  {
   "cell_type": "code",
   "execution_count": 75,
   "metadata": {},
   "outputs": [],
   "source": [
    "import numpy as np\n",
    "import scipy\n",
    "import scipy.linalg"
   ]
  },
  {
   "cell_type": "code",
   "execution_count": 76,
   "metadata": {},
   "outputs": [
    {
     "output_type": "execute_result",
     "data": {
      "text/plain": "array([[4, 3],\n       [8, 6]])"
     },
     "metadata": {},
     "execution_count": 76
    }
   ],
   "source": [
    "A = np.array([[4,3], [8,6]])\n",
    "A"
   ]
  },
  {
   "cell_type": "code",
   "execution_count": 77,
   "metadata": {},
   "outputs": [
    {
     "output_type": "execute_result",
     "data": {
      "text/plain": "(array([[-0.4472136 , -0.89442719],\n        [-0.89442719,  0.4472136 ]]),\n array([1.11803399e+01, 1.15750506e-15]),\n array([[-0.8, -0.6],\n        [-0.6,  0.8]]))"
     },
     "metadata": {},
     "execution_count": 77
    }
   ],
   "source": [
    "scipy.linalg.svd(A)"
   ]
  },
  {
   "cell_type": "code",
   "execution_count": 78,
   "metadata": {},
   "outputs": [],
   "source": [
    "u, s, vT = scipy.linalg.svd(A)"
   ]
  },
  {
   "cell_type": "code",
   "execution_count": 79,
   "metadata": {},
   "outputs": [
    {
     "output_type": "execute_result",
     "data": {
      "text/plain": "array([[4., 3.],\n       [8., 6.]])"
     },
     "metadata": {},
     "execution_count": 79
    }
   ],
   "source": [
    "u @ np.diag(s) @ vT"
   ]
  },
  {
   "cell_type": "code",
   "execution_count": null,
   "metadata": {},
   "outputs": [],
   "source": []
  },
  {
   "cell_type": "code",
   "execution_count": 19,
   "metadata": {},
   "outputs": [
    {
     "output_type": "execute_result",
     "data": {
      "text/plain": "array([[1, 2],\n       [3, 4],\n       [5, 6]])"
     },
     "metadata": {},
     "execution_count": 19
    }
   ],
   "source": [
    "B = np.array([[1,2],[3,4],[5,6]])\n",
    "B"
   ]
  },
  {
   "cell_type": "code",
   "execution_count": 62,
   "metadata": {},
   "outputs": [],
   "source": [
    "u, s, vT = scipy.linalg.svd(B)"
   ]
  },
  {
   "cell_type": "code",
   "execution_count": 63,
   "metadata": {},
   "outputs": [
    {
     "output_type": "execute_result",
     "data": {
      "text/plain": "array([[-0.2298477 ,  0.88346102,  0.40824829],\n       [-0.52474482,  0.24078249, -0.81649658],\n       [-0.81964194, -0.40189603,  0.40824829]])"
     },
     "metadata": {},
     "execution_count": 63
    }
   ],
   "source": [
    "u"
   ]
  },
  {
   "cell_type": "code",
   "execution_count": 73,
   "metadata": {},
   "outputs": [],
   "source": [
    "sigma = np.pad(np.diag(s), ((0,1),(0,0)), mode='constant')"
   ]
  },
  {
   "cell_type": "code",
   "execution_count": 74,
   "metadata": {},
   "outputs": [
    {
     "output_type": "execute_result",
     "data": {
      "text/plain": "array([[1., 2.],\n       [3., 4.],\n       [5., 6.]])"
     },
     "metadata": {},
     "execution_count": 74
    }
   ],
   "source": [
    "u @ sigma @ vT"
   ]
  },
  {
   "cell_type": "code",
   "execution_count": 83,
   "metadata": {},
   "outputs": [
    {
     "output_type": "execute_result",
     "data": {
      "text/plain": "array([[ 1,  2,  3,  4,  5,  6,  7,  8,  9, 10],\n       [11, 12, 13, 14, 15, 16, 17, 18, 19, 20],\n       [21, 22, 23, 24, 25, 26, 27, 28, 29, 30]])"
     },
     "metadata": {},
     "execution_count": 83
    }
   ],
   "source": [
    "D = np.arange(1,31).reshape(3,10)\n",
    "D"
   ]
  },
  {
   "cell_type": "code",
   "execution_count": 85,
   "metadata": {},
   "outputs": [
    {
     "output_type": "execute_result",
     "data": {
      "text/plain": "(array([[-0.19101157,  0.89266338,  0.40824829],\n        [-0.51371859,  0.26348917, -0.81649658],\n        [-0.8364256 , -0.36568503,  0.40824829]]),\n array([9.69657342e+01, 7.25578339e+00, 5.82172067e-15]),\n array([[-0.24139304, -0.25728686, -0.27318068, -0.2890745 , -0.30496832,\n         -0.32086214, -0.33675595, -0.35264977, -0.36854359, -0.38443741],\n        [-0.53589546, -0.42695236, -0.31800926, -0.20906617, -0.10012307,\n          0.00882003,  0.11776313,  0.22670623,  0.33564933,  0.44459242],\n        [-0.76308471,  0.57981078,  0.1426451 ,  0.09783039,  0.10006951,\n          0.08192046, -0.02182071, -0.07111153,  0.02343386, -0.16969316],\n        [-0.11442628, -0.24159965, -0.22978376,  0.9248098 , -0.07469427,\n         -0.07119775, -0.05510443, -0.0470247 , -0.06011372, -0.03086524],\n        [-0.03428472, -0.13813055, -0.29451801, -0.06190924,  0.92563949,\n         -0.08203999, -0.06968687, -0.07007771, -0.10413301, -0.07085938],\n        [ 0.02720949, -0.03009057, -0.34021657, -0.04844604, -0.07353916,\n          0.90753768, -0.08548326, -0.09498217, -0.14800938, -0.11398001],\n        [ 0.01041974,  0.09713855, -0.30600093, -0.03421776, -0.07067076,\n         -0.10112181,  0.89362412, -0.12765928, -0.19128579, -0.17022608],\n        [ 0.04343118,  0.2121603 , -0.32262357, -0.02047619, -0.06910461,\n         -0.11090274, -0.12402648,  0.84460826, -0.23494388, -0.21812226],\n        [ 0.20799756,  0.29493499, -0.47354078, -0.00802033, -0.07097847,\n         -0.12364611, -0.13311291, -0.17006239,  0.7203898 , -0.24396136],\n        [ 0.10945405,  0.44220378, -0.35586886,  0.00700694, -0.06597231,\n         -0.13046462, -0.15932766, -0.21085665, -0.32226005,  0.68608538]]))"
     },
     "metadata": {},
     "execution_count": 85
    }
   ],
   "source": [
    "scipy.linalg.svd(D)"
   ]
  },
  {
   "cell_type": "code",
   "execution_count": 84,
   "metadata": {},
   "outputs": [],
   "source": [
    "u, s, vT = scipy.linalg.svd(D)"
   ]
  },
  {
   "cell_type": "code",
   "execution_count": 86,
   "metadata": {},
   "outputs": [],
   "source": [
    "n = 2"
   ]
  },
  {
   "cell_type": "code",
   "execution_count": 87,
   "metadata": {},
   "outputs": [
    {
     "output_type": "execute_result",
     "data": {
      "text/plain": "array([[ 1.,  2.,  3.,  4.,  5.,  6.,  7.,  8.,  9., 10.],\n       [11., 12., 13., 14., 15., 16., 17., 18., 19., 20.],\n       [21., 22., 23., 24., 25., 26., 27., 28., 29., 30.]])"
     },
     "metadata": {},
     "execution_count": 87
    }
   ],
   "source": [
    "u[:,:n] @ np.diag(s[:n]) @ vT[:2,:]"
   ]
  },
  {
   "cell_type": "code",
   "execution_count": 103,
   "metadata": {},
   "outputs": [
    {
     "output_type": "execute_result",
     "data": {
      "text/plain": "array([[-18.52157747,   6.47697214],\n       [-49.81310011,   1.91182038],\n       [-81.10462276,  -2.65333138]])"
     },
     "metadata": {},
     "execution_count": 103
    }
   ],
   "source": [
    "D @ vT[:2,:].T"
   ]
  },
  {
   "cell_type": "code",
   "execution_count": 91,
   "metadata": {},
   "outputs": [
    {
     "output_type": "execute_result",
     "data": {
      "text/plain": "array([[-18.52157747,   6.47697214],\n       [-49.81310011,   1.91182038],\n       [-81.10462276,  -2.65333138]])"
     },
     "metadata": {},
     "execution_count": 91
    }
   ],
   "source": [
    "u[:,:n] @ np.diag(s[:n])"
   ]
  },
  {
   "cell_type": "code",
   "execution_count": null,
   "metadata": {},
   "outputs": [],
   "source": []
  }
 ],
 "metadata": {
  "language_info": {
   "codemirror_mode": {
    "name": "ipython",
    "version": 3
   },
   "file_extension": ".py",
   "mimetype": "text/x-python",
   "name": "python",
   "nbconvert_exporter": "python",
   "pygments_lexer": "ipython3",
   "version": "3.7.7-final"
  },
  "orig_nbformat": 2,
  "kernelspec": {
   "name": "python37764bitailearncondac55bf7adc40a450a9629c3e2b471f312",
   "display_name": "Python 3.7.7 64-bit ('ai_learn': conda)"
  }
 },
 "nbformat": 4,
 "nbformat_minor": 2
}