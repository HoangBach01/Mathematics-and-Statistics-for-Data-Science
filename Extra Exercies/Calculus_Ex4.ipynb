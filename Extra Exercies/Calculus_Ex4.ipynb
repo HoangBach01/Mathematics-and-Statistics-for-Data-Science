{
 "metadata": {
  "language_info": {
   "codemirror_mode": {
    "name": "ipython",
    "version": 3
   },
   "file_extension": ".py",
   "mimetype": "text/x-python",
   "name": "python",
   "nbconvert_exporter": "python",
   "pygments_lexer": "ipython3",
   "version": "3.7.7-final"
  },
  "orig_nbformat": 2,
  "kernelspec": {
   "name": "python37764bitailearncondac55bf7adc40a450a9629c3e2b471f312",
   "display_name": "Python 3.7.7 64-bit ('ai_learn': conda)"
  }
 },
 "nbformat": 4,
 "nbformat_minor": 2,
 "cells": [
  {
   "cell_type": "code",
   "execution_count": 27,
   "metadata": {},
   "outputs": [],
   "source": [
    "import scipy.integrate\n",
    "from math import *"
   ]
  },
  {
   "cell_type": "code",
   "execution_count": 26,
   "metadata": {},
   "outputs": [],
   "source": [
    "# Cau 1:\n",
    "f = lambda x: 10 * x**2 + 10"
   ]
  },
  {
   "cell_type": "code",
   "execution_count": 4,
   "metadata": {},
   "outputs": [
    {
     "output_type": "execute_result",
     "data": {
      "text/plain": "46.666666666666664"
     },
     "metadata": {},
     "execution_count": 4
    }
   ],
   "source": [
    "scipy.integrate.quad(f, 0, 2)[0]"
   ]
  },
  {
   "cell_type": "code",
   "execution_count": 25,
   "metadata": {},
   "outputs": [],
   "source": [
    "# Cau 2:\n",
    "g = lambda t: (t**4 + 1)/(t**2 + 1)"
   ]
  },
  {
   "cell_type": "code",
   "execution_count": 7,
   "metadata": {},
   "outputs": [
    {
     "output_type": "execute_result",
     "data": {
      "text/plain": "17.104004558414548"
     },
     "metadata": {},
     "execution_count": 7
    }
   ],
   "source": [
    "scipy.integrate.quad(g, 2, 4)[0]"
   ]
  },
  {
   "cell_type": "code",
   "execution_count": 24,
   "metadata": {},
   "outputs": [],
   "source": [
    "# Cau 3:\n",
    "h = lambda x, y: (1 + 8*x*y)\n",
    "a = lambda x:0\n",
    "b = lambda x:3"
   ]
  },
  {
   "cell_type": "code",
   "execution_count": 22,
   "metadata": {},
   "outputs": [
    {
     "output_type": "execute_result",
     "data": {
      "text/plain": "56.99999999999999"
     },
     "metadata": {},
     "execution_count": 22
    }
   ],
   "source": [
    "scipy.integrate.dblquad(h, 1, 2, a, b)[0]"
   ]
  },
  {
   "cell_type": "code",
   "execution_count": 33,
   "metadata": {},
   "outputs": [],
   "source": [
    "# Cau 4:\n",
    "k = lambda x, y: y * sin(x)\n",
    "a = lambda y:0\n",
    "b = lambda y:1"
   ]
  },
  {
   "cell_type": "code",
   "execution_count": 34,
   "metadata": {},
   "outputs": [
    {
     "output_type": "execute_result",
     "data": {
      "text/plain": "0.5671292981468048"
     },
     "metadata": {},
     "execution_count": 34
    }
   ],
   "source": [
    "scipy.integrate.dblquad(k, 0, pi/2, a, b)[0]"
   ]
  }
 ]
}