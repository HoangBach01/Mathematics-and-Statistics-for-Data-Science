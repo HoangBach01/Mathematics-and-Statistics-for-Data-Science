{
 "metadata": {
  "language_info": {
   "codemirror_mode": {
    "name": "ipython",
    "version": 3
   },
   "file_extension": ".py",
   "mimetype": "text/x-python",
   "name": "python",
   "nbconvert_exporter": "python",
   "pygments_lexer": "ipython3",
   "version": "3.7.7-final"
  },
  "orig_nbformat": 2,
  "kernelspec": {
   "name": "python37764bitailearncondac55bf7adc40a450a9629c3e2b471f312",
   "display_name": "Python 3.7.7 64-bit ('ai_learn': conda)"
  }
 },
 "nbformat": 4,
 "nbformat_minor": 2,
 "cells": [
  {
   "cell_type": "code",
   "execution_count": 34,
   "metadata": {},
   "outputs": [],
   "source": [
    "import sklearn.datasets\n",
    "import sklearn.decomposition\n",
    "import scipy.sparse\n",
    "import numpy as np"
   ]
  },
  {
   "cell_type": "code",
   "execution_count": 16,
   "metadata": {},
   "outputs": [
    {
     "output_type": "execute_result",
     "data": {
      "text/plain": "(1797, 64)"
     },
     "metadata": {},
     "execution_count": 16
    }
   ],
   "source": [
    "digits = sklearn.datasets.load_digits()\n",
    "A = digits.data\n",
    "A.shape"
   ]
  },
  {
   "cell_type": "code",
   "execution_count": 17,
   "metadata": {},
   "outputs": [
    {
     "output_type": "execute_result",
     "data": {
      "text/plain": "array([[ 0.,  0.,  5., ...,  0.,  0.,  0.],\n       [ 0.,  0.,  0., ..., 10.,  0.,  0.],\n       [ 0.,  0.,  0., ..., 16.,  9.,  0.],\n       ...,\n       [ 0.,  0.,  1., ...,  6.,  0.,  0.],\n       [ 0.,  0.,  2., ..., 12.,  0.,  0.],\n       [ 0.,  0., 10., ..., 12.,  1.,  0.]])"
     },
     "metadata": {},
     "execution_count": 17
    }
   ],
   "source": [
    "A"
   ]
  },
  {
   "cell_type": "code",
   "execution_count": 21,
   "metadata": {},
   "outputs": [
    {
     "output_type": "execute_result",
     "data": {
      "text/plain": "<1797x64 sparse matrix of type '<class 'numpy.float64'>'\n\twith 58736 stored elements in Compressed Sparse Row format>"
     },
     "metadata": {},
     "execution_count": 21
    }
   ],
   "source": [
    "X = scipy.sparse.csr_matrix(A)\n",
    "X"
   ]
  },
  {
   "cell_type": "code",
   "execution_count": 12,
   "metadata": {},
   "outputs": [],
   "source": [
    "svd = sklearn.decomposition.TruncatedSVD(n_components=10)"
   ]
  },
  {
   "cell_type": "code",
   "execution_count": 25,
   "metadata": {},
   "outputs": [
    {
     "output_type": "execute_result",
     "data": {
      "text/plain": "array([[ 45.86127719,  -1.19211455,  21.10005765, ...,   0.39803297,\n          1.30943543,  -1.39046292],\n       [ 55.52967927,   7.861773  , -20.48719597, ...,   1.53821878,\n         -4.73966542,   3.41392921],\n       [ 55.8278837 ,   6.91460197,  -9.66245091, ...,   2.29825199,\n        -16.83956661,  -1.11664483],\n       ...,\n       [ 65.52698526,  10.65872655,  -6.29456233, ...,  -2.30196338,\n         -4.47154834,  -1.72678692],\n       [ 58.60616587,  -4.91124542,  12.72315307, ...,   0.51215581,\n         -1.63131288,   6.44308776],\n       [ 64.44823101,  -0.45551596,   7.04184122, ...,  -8.30302652,\n          3.38039046,  -1.41544344]])"
     },
     "metadata": {},
     "execution_count": 25
    }
   ],
   "source": [
    "svd.fit_transform(A)"
   ]
  },
  {
   "cell_type": "code",
   "execution_count": 28,
   "metadata": {},
   "outputs": [],
   "source": [
    "T = svd.fit_transform(X)"
   ]
  },
  {
   "cell_type": "code",
   "execution_count": 29,
   "metadata": {},
   "outputs": [],
   "source": [
    "A_recreate = svd.inverse_transform(T)"
   ]
  },
  {
   "cell_type": "code",
   "execution_count": 26,
   "metadata": {},
   "outputs": [
    {
     "output_type": "execute_result",
     "data": {
      "text/plain": "array([ 0.,  0.,  5., 13.,  9.,  1.,  0.,  0.,  0.,  0., 13., 15., 10.,\n       15.,  5.,  0.,  0.,  3., 15.,  2.,  0., 11.,  8.,  0.,  0.,  4.,\n       12.,  0.,  0.,  8.,  8.,  0.,  0.,  5.,  8.,  0.,  0.,  9.,  8.,\n        0.,  0.,  4., 11.,  0.,  1., 12.,  7.,  0.,  0.,  2., 14.,  5.,\n       10., 12.,  0.,  0.,  0.,  0.,  6., 13., 10.,  0.,  0.,  0.])"
     },
     "metadata": {},
     "execution_count": 26
    }
   ],
   "source": [
    "# Original 1st row in A\n",
    "A[0,:]"
   ]
  },
  {
   "cell_type": "code",
   "execution_count": 41,
   "metadata": {},
   "outputs": [
    {
     "output_type": "execute_result",
     "data": {
      "text/plain": "array([45.86127719, -1.19211604, 21.10005857, -9.48897034, 13.04309416,\n       -7.01662177, -8.95995094,  0.39632548,  1.31009448, -1.39042409])"
     },
     "metadata": {},
     "execution_count": 41
    }
   ],
   "source": [
    "# After svd reduction\n",
    "T[0,:]"
   ]
  },
  {
   "cell_type": "code",
   "execution_count": 43,
   "metadata": {},
   "outputs": [
    {
     "output_type": "execute_result",
     "data": {
      "text/plain": "0.7324264603964306"
     },
     "metadata": {},
     "execution_count": 43
    }
   ],
   "source": [
    "np.sum(svd.explained_variance_ratio_)"
   ]
  },
  {
   "cell_type": "code",
   "execution_count": null,
   "metadata": {},
   "outputs": [],
   "source": []
  }
 ]
}