{
 "metadata": {
  "language_info": {
   "codemirror_mode": {
    "name": "ipython",
    "version": 3
   },
   "file_extension": ".py",
   "mimetype": "text/x-python",
   "name": "python",
   "nbconvert_exporter": "python",
   "pygments_lexer": "ipython3",
   "version": "3.7.7-final"
  },
  "orig_nbformat": 2,
  "kernelspec": {
   "name": "python37764bitailearncondac55bf7adc40a450a9629c3e2b471f312",
   "display_name": "Python 3.7.7 64-bit ('ai_learn': conda)"
  }
 },
 "nbformat": 4,
 "nbformat_minor": 2,
 "cells": [
  {
   "cell_type": "code",
   "execution_count": 1,
   "metadata": {},
   "outputs": [],
   "source": [
    "from math import *\n",
    "from scipy.misc import derivative"
   ]
  },
  {
   "cell_type": "code",
   "execution_count": 8,
   "metadata": {},
   "outputs": [],
   "source": [
    "# Cau 1:\n",
    "f1 = lambda x: sin(x) + cos(x) + e**(2*x) + 2*x**4 -10"
   ]
  },
  {
   "cell_type": "code",
   "execution_count": 9,
   "metadata": {},
   "outputs": [
    {
     "output_type": "execute_result",
     "data": {
      "text/plain": "171.8709086162562"
     },
     "metadata": {},
     "execution_count": 9
    }
   ],
   "source": [
    "f1_result = derivative(f1, 2, dx=1e-10)\n",
    "f1_result"
   ]
  },
  {
   "cell_type": "code",
   "execution_count": 10,
   "metadata": {},
   "outputs": [],
   "source": [
    "f2 = lambda x: 5*x**2 / sin(x)"
   ]
  },
  {
   "cell_type": "code",
   "execution_count": 11,
   "metadata": {},
   "outputs": [
    {
     "output_type": "execute_result",
     "data": {
      "text/plain": "32.06119814080921"
     },
     "metadata": {},
     "execution_count": 11
    }
   ],
   "source": [
    "f2_result = derivative(f2, 2, dx=1e-10)\n",
    "f2_result"
   ]
  },
  {
   "cell_type": "code",
   "execution_count": 12,
   "metadata": {},
   "outputs": [],
   "source": [
    "f3 = lambda x: (x**2 - 5) * (x**3 -2*x + 3)"
   ]
  },
  {
   "cell_type": "code",
   "execution_count": 14,
   "metadata": {},
   "outputs": [
    {
     "output_type": "execute_result",
     "data": {
      "text/plain": "18.000001489326678"
     },
     "metadata": {},
     "execution_count": 14
    }
   ],
   "source": [
    "f3_result = derivative(f3, 2, dx=1e-10)\n",
    "f3_result"
   ]
  },
  {
   "cell_type": "code",
   "execution_count": 15,
   "metadata": {},
   "outputs": [],
   "source": [
    "f4 = lambda x: (sqrt(x) + 2*x) * (4*x**2 - 1)"
   ]
  },
  {
   "cell_type": "code",
   "execution_count": 16,
   "metadata": {},
   "outputs": [
    {
     "output_type": "execute_result",
     "data": {
      "text/plain": "121.93076770472544"
     },
     "metadata": {},
     "execution_count": 16
    }
   ],
   "source": [
    "f4_result = derivative(f4, 2, dx=1e-10)\n",
    "f4_result"
   ]
  },
  {
   "cell_type": "code",
   "execution_count": 17,
   "metadata": {},
   "outputs": [],
   "source": [
    "f5 = lambda x: (x**2 - 1) / (5*x - 3)"
   ]
  },
  {
   "cell_type": "code",
   "execution_count": 18,
   "metadata": {},
   "outputs": [
    {
     "output_type": "execute_result",
     "data": {
      "text/plain": "0.26530611041408747"
     },
     "metadata": {},
     "execution_count": 18
    }
   ],
   "source": [
    "f5_result = derivative(f5, 2, dx=1e-10)\n",
    "f5_result"
   ]
  },
  {
   "cell_type": "code",
   "execution_count": null,
   "metadata": {},
   "outputs": [],
   "source": []
  }
 ]
}