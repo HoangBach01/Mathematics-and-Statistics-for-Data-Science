{
 "metadata": {
  "language_info": {
   "codemirror_mode": {
    "name": "ipython",
    "version": 3
   },
   "file_extension": ".py",
   "mimetype": "text/x-python",
   "name": "python",
   "nbconvert_exporter": "python",
   "pygments_lexer": "ipython3",
   "version": "3.7.7-final"
  },
  "orig_nbformat": 2,
  "kernelspec": {
   "name": "python_defaultSpec_1600534551859",
   "display_name": "Python 3.7.7 64-bit ('ai_learn': conda)"
  }
 },
 "nbformat": 4,
 "nbformat_minor": 2,
 "cells": [
  {
   "cell_type": "code",
   "execution_count": 34,
   "metadata": {},
   "outputs": [],
   "source": [
    "import numpy        as np\n",
    "import pandas       as pd\n",
    "import scipy.stats  as stats"
   ]
  },
  {
   "cell_type": "code",
   "execution_count": 24,
   "metadata": {},
   "outputs": [],
   "source": [
    "# Cau 2:\n",
    "life1 = np.loadtxt('../Data/B5/life_batteries.txt').reshape(1,-1)[0]\n",
    "life2 = np.loadtxt('../Data/B5/life_batteries_2.txt').reshape(1,-1)[0]"
   ]
  },
  {
   "cell_type": "code",
   "execution_count": 25,
   "metadata": {},
   "outputs": [
    {
     "output_type": "execute_result",
     "data": {
      "text/plain": "array([130., 145., 126., 146., 164., 130., 132., 152., 145., 129., 133.,\n       155., 140., 127., 139., 137., 131., 126., 145., 148., 125., 132.,\n       126., 126., 126., 135., 131., 129., 147., 136., 129., 136., 156.,\n       146., 130., 146., 132., 142., 132., 132.])"
     },
     "metadata": {},
     "execution_count": 25
    }
   ],
   "source": [
    "life1"
   ]
  },
  {
   "cell_type": "code",
   "execution_count": 26,
   "metadata": {},
   "outputs": [
    {
     "output_type": "execute_result",
     "data": {
      "text/plain": "(40,)"
     },
     "metadata": {},
     "execution_count": 26
    }
   ],
   "source": [
    "life2.shape"
   ]
  },
  {
   "cell_type": "markdown",
   "metadata": {},
   "source": [
    "### Hypothesis:\n",
    "* H_0: means are equal\n",
    "* H_a: means are not equal"
   ]
  },
  {
   "cell_type": "code",
   "execution_count": 37,
   "metadata": {
    "tags": []
   },
   "outputs": [
    {
     "output_type": "stream",
     "name": "stdout",
     "text": "Ttest_indResult(statistic=-2.6113890791026946, pvalue=0.010811240390727006)\n"
    }
   ],
   "source": [
    "# Vì hai dữ liệu này là độc lập, chưa biết phương sai trước khi lấy mẫu, nên sử dụng t-test independent\n",
    "t, p = stats.ttest_ind(life1, life2)\n",
    "print(stats.ttest_ind(life1, life2))"
   ]
  },
  {
   "cell_type": "code",
   "execution_count": 31,
   "metadata": {
    "tags": []
   },
   "outputs": [
    {
     "output_type": "stream",
     "name": "stdout",
     "text": "(p <= alpha) ==> REJECT the H0 that the means are equal.\n"
    }
   ],
   "source": [
    "alpha = 0.05   \n",
    "if (p > alpha):\n",
    "    print('(p >  alpha) ==> ACCEPT the H0 that the means are equal.')\n",
    "else:\n",
    "    print('(p <= alpha) ==> REJECT the H0 that the means are equal.')"
   ]
  },
  {
   "cell_type": "code",
   "execution_count": 32,
   "metadata": {},
   "outputs": [],
   "source": [
    "# Cau 3:\n",
    "np.random.seed(11)\n",
    "before = stats.norm.rvs(scale=30, loc=250, size=100)\n",
    "after = before + stats.norm.rvs(scale=10, loc=-1.25, size=100)"
   ]
  },
  {
   "cell_type": "code",
   "execution_count": 36,
   "metadata": {},
   "outputs": [
    {
     "output_type": "execute_result",
     "data": {
      "text/plain": "        before       after     change\n0   302.483642  309.976370   7.492728\n1   241.417810  240.884331  -0.533479\n2   235.463046  217.822530 -17.640516\n3   170.400443  162.677417  -7.723026\n4   249.751461  256.679157   6.927696\n..         ...         ...        ...\n95  258.148189  256.445437  -1.702751\n96  275.760015  270.598284  -5.161731\n97  212.077790  226.170013  14.092223\n98  283.446109  280.554179  -2.891929\n99  263.043310  265.396976   2.353667\n\n[100 rows x 3 columns]",
      "text/html": "<div>\n<style scoped>\n    .dataframe tbody tr th:only-of-type {\n        vertical-align: middle;\n    }\n\n    .dataframe tbody tr th {\n        vertical-align: top;\n    }\n\n    .dataframe thead th {\n        text-align: right;\n    }\n</style>\n<table border=\"1\" class=\"dataframe\">\n  <thead>\n    <tr style=\"text-align: right;\">\n      <th></th>\n      <th>before</th>\n      <th>after</th>\n      <th>change</th>\n    </tr>\n  </thead>\n  <tbody>\n    <tr>\n      <th>0</th>\n      <td>302.483642</td>\n      <td>309.976370</td>\n      <td>7.492728</td>\n    </tr>\n    <tr>\n      <th>1</th>\n      <td>241.417810</td>\n      <td>240.884331</td>\n      <td>-0.533479</td>\n    </tr>\n    <tr>\n      <th>2</th>\n      <td>235.463046</td>\n      <td>217.822530</td>\n      <td>-17.640516</td>\n    </tr>\n    <tr>\n      <th>3</th>\n      <td>170.400443</td>\n      <td>162.677417</td>\n      <td>-7.723026</td>\n    </tr>\n    <tr>\n      <th>4</th>\n      <td>249.751461</td>\n      <td>256.679157</td>\n      <td>6.927696</td>\n    </tr>\n    <tr>\n      <th>...</th>\n      <td>...</td>\n      <td>...</td>\n      <td>...</td>\n    </tr>\n    <tr>\n      <th>95</th>\n      <td>258.148189</td>\n      <td>256.445437</td>\n      <td>-1.702751</td>\n    </tr>\n    <tr>\n      <th>96</th>\n      <td>275.760015</td>\n      <td>270.598284</td>\n      <td>-5.161731</td>\n    </tr>\n    <tr>\n      <th>97</th>\n      <td>212.077790</td>\n      <td>226.170013</td>\n      <td>14.092223</td>\n    </tr>\n    <tr>\n      <th>98</th>\n      <td>283.446109</td>\n      <td>280.554179</td>\n      <td>-2.891929</td>\n    </tr>\n    <tr>\n      <th>99</th>\n      <td>263.043310</td>\n      <td>265.396976</td>\n      <td>2.353667</td>\n    </tr>\n  </tbody>\n</table>\n<p>100 rows × 3 columns</p>\n</div>"
     },
     "metadata": {},
     "execution_count": 36
    }
   ],
   "source": [
    "df = pd.DataFrame({'before': before, 'after': after, 'change': after-before})\n",
    "df"
   ]
  },
  {
   "cell_type": "markdown",
   "metadata": {},
   "source": [
    "### Hypothesis:\n",
    "* H_0: means are equal\n",
    "* H_a: means are not equal"
   ]
  },
  {
   "cell_type": "code",
   "execution_count": 41,
   "metadata": {
    "tags": []
   },
   "outputs": [
    {
     "output_type": "stream",
     "name": "stdout",
     "text": "Ttest_relResult(statistic=1.2654964235180246, pvalue=0.2086637076995594)\n"
    }
   ],
   "source": [
    "# Vì hai dữ liệu before và after phụ thuộc nhau, nên sử dụng t-test dependent\n",
    "t1, p1 = stats.ttest_rel(df['before'], df['after'])\n",
    "print(stats.ttest_rel(df['before'], df['after']))"
   ]
  },
  {
   "cell_type": "code",
   "execution_count": 42,
   "metadata": {
    "tags": []
   },
   "outputs": [
    {
     "output_type": "stream",
     "name": "stdout",
     "text": "(p >  alpha) ==> ACCEPT the H0 that the means are equal.\n"
    }
   ],
   "source": [
    "alpha = 0.05   \n",
    "if (p1 > alpha):\n",
    "    print('(p >  alpha) ==> ACCEPT the H0 that the means are equal.')\n",
    "else:\n",
    "    print('(p <= alpha) ==> REJECT the H0 that the means are equal.')"
   ]
  },
  {
   "cell_type": "code",
   "execution_count": null,
   "metadata": {},
   "outputs": [],
   "source": []
  }
 ]
}