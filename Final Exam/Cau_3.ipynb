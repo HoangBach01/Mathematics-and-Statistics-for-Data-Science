{
 "metadata": {
  "language_info": {
   "codemirror_mode": {
    "name": "ipython",
    "version": 3
   },
   "file_extension": ".py",
   "mimetype": "text/x-python",
   "name": "python",
   "nbconvert_exporter": "python",
   "pygments_lexer": "ipython3",
   "version": "3.7.7-final"
  },
  "orig_nbformat": 2,
  "kernelspec": {
   "name": "python_defaultSpec_1600592333069",
   "display_name": "Python 3.7.7 64-bit ('ai_learn': conda)"
  }
 },
 "nbformat": 4,
 "nbformat_minor": 2,
 "cells": [
  {
   "cell_type": "markdown",
   "metadata": {},
   "source": [
    "# <center>MATHEMATICS AND STATISTICS FOR DATA SCIENCE</center>\n",
    "<center>Thời gian: 180 phút</center>\n",
    "<center>Ngày thi: 20/09/2020</center>\n",
    "<center> ****** </center>\n",
    "<center>Thí sinh: <b>TRẦN HOÀNG BÁCH  </b> </center>    \n",
    "<center>   ---   </b> </center>  \n",
    "<center>Câu 3: Kiểm định trung bình 2 mẫu </b> </center>"
   ]
  },
  {
   "cell_type": "code",
   "execution_count": 1,
   "metadata": {},
   "outputs": [],
   "source": [
    "import numpy as np\n",
    "from scipy import stats\n",
    "from math import *"
   ]
  },
  {
   "cell_type": "markdown",
   "metadata": {},
   "source": [
    "## Câu 3.1"
   ]
  },
  {
   "cell_type": "code",
   "execution_count": 2,
   "metadata": {},
   "outputs": [
    {
     "output_type": "execute_result",
     "data": {
      "text/plain": "array([134., 130., 140., 151., 143., 134., 136., 144., 150., 135., 160.,\n       141., 143., 140., 138., 141., 148., 146., 140., 146., 151., 138.,\n       151., 139., 151., 128., 146., 147., 152., 142., 144., 134., 142.,\n       146., 142., 136., 122., 134., 145., 147.])"
     },
     "metadata": {},
     "execution_count": 2
    }
   ],
   "source": [
    "# Load dữ liệu\n",
    "mau_1 = np.loadtxt('Data/Mau_1.txt').reshape(1,-1)[0]\n",
    "mau_1"
   ]
  },
  {
   "cell_type": "code",
   "execution_count": 3,
   "metadata": {},
   "outputs": [
    {
     "output_type": "execute_result",
     "data": {
      "text/plain": "array([130., 145., 126., 146., 164., 130., 132., 152., 145., 129., 133.,\n       155., 140., 127., 139., 137., 131., 126., 145., 148., 125., 132.,\n       126., 126., 126., 135., 131., 129., 147., 136., 129., 136., 156.,\n       146., 130., 146., 132., 142., 132., 132.])"
     },
     "metadata": {},
     "execution_count": 3
    }
   ],
   "source": [
    "mau_2 = np.loadtxt('Data/Mau_2.txt').reshape(1,-1)[0]\n",
    "mau_2"
   ]
  },
  {
   "cell_type": "markdown",
   "metadata": {},
   "source": [
    "## Câu 3.2\n",
    "Vì hai dữ liệu này là phụ thuộc, nên sử dụng t-test dependent\n",
    "### Hypothesis:\n",
    "* H_0: means are equal\n",
    "* H_a: means are not equal"
   ]
  },
  {
   "cell_type": "code",
   "execution_count": 4,
   "metadata": {},
   "outputs": [],
   "source": [
    "alpha = 0.05"
   ]
  },
  {
   "cell_type": "code",
   "execution_count": 5,
   "metadata": {},
   "outputs": [],
   "source": [
    "# Cách 1: Tính toán truyền thống\n",
    "def dependent_T_test(data1, data2, alpha):\n",
    "    # Calculate 2 means\n",
    "    mean1, mean2 = data1.mean(), data2.mean()\n",
    "    # Number of paired samples\n",
    "    n = len(data1)\n",
    "    # Sum squared difference between observations\n",
    "    d1 = sum([(data1[i] - data2[i])**2 for i in range(n)])  \n",
    "    # Sum difference between observations\n",
    "    d2 = sum([data1[i] - data2[i] for i in range(n)])\n",
    "    # Standard deviation of the difference between means\n",
    "    sd = sqrt((d1 - (d2**2 / n)) / (n - 1))\n",
    "    # Standard error of the difference between the means\n",
    "    sed = sd / sqrt(n)\n",
    "    # Calculate the t statistic\n",
    "    t_stat = (mean1 - mean2) / sed\n",
    "    # Degrees of freedom\n",
    "    df = n - 1\n",
    "    # Calculate the critical value\n",
    "    cv = stats.t.ppf(1.0 - alpha, df)\n",
    "    # calculate the p-value\n",
    "    p = (1.0 - stats.t.cdf(abs(t_stat), df)) * 2.0\n",
    "    # Return everything\n",
    "    return t_stat, df, cv, p"
   ]
  },
  {
   "cell_type": "code",
   "execution_count": 6,
   "metadata": {},
   "outputs": [
    {
     "output_type": "execute_result",
     "data": {
      "text/plain": "0.012684428223636246"
     },
     "metadata": {},
     "execution_count": 6
    }
   ],
   "source": [
    "t_stat, df, cv, p = dependent_T_test(mau_1, mau_2, alpha)\n",
    "p"
   ]
  },
  {
   "cell_type": "code",
   "execution_count": 7,
   "metadata": {},
   "outputs": [
    {
     "output_type": "execute_result",
     "data": {
      "text/plain": "0.01268442822363654"
     },
     "metadata": {},
     "execution_count": 7
    }
   ],
   "source": [
    "# Cách 2: Dùng hàm thống kê có sẵn\n",
    "t_1, p_1 = stats.ttest_rel(mau_1, mau_2)\n",
    "p_1"
   ]
  },
  {
   "cell_type": "markdown",
   "metadata": {},
   "source": [
    "Nhận xét: Cả 2 phương pháp đều cho ra giá trị p-value tương đương nhau"
   ]
  },
  {
   "cell_type": "code",
   "execution_count": 8,
   "metadata": {
    "tags": []
   },
   "outputs": [
    {
     "output_type": "stream",
     "name": "stdout",
     "text": "(p <= alpha) ==> REJECT the H0 that the means are equal.\n"
    }
   ],
   "source": [
    "# So sánh p-value và alpha\n",
    "if (p > alpha):\n",
    "    print('(p >  alpha) ==> FAIL TO REJECT the H0 that the means are equal.')\n",
    "else:\n",
    "    print('(p <= alpha) ==> REJECT the H0 that the means are equal.')"
   ]
  },
  {
   "cell_type": "markdown",
   "metadata": {},
   "source": [
    "Nhận xét: Vì p< alpha nên Reject H0 \"Hai quần thể có cùng giá trị trung bình\"  \n",
    "\n",
    "==> Nên có thể kết luận rằng: **Với độ tin cậy 95%, Hai quần thể này có giá trị trung bình khác nhau.**"
   ]
  },
  {
   "cell_type": "code",
   "execution_count": null,
   "metadata": {},
   "outputs": [],
   "source": []
  }
 ]
}