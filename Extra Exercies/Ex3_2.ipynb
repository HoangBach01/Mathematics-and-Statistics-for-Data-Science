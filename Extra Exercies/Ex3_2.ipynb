{
 "cells": [
  {
   "cell_type": "code",
   "execution_count": 1,
   "metadata": {},
   "outputs": [],
   "source": [
    "import numpy as np\n",
    "import pandas as pd\n",
    "import scipy.linalg"
   ]
  },
  {
   "cell_type": "code",
   "execution_count": 5,
   "metadata": {},
   "outputs": [
    {
     "output_type": "execute_result",
     "data": {
      "text/plain": "     sepal_length  sepal_width  petal_length  petal_width\n0             5.1          3.5           1.4          0.2\n1             4.9          3.0           1.4          0.2\n2             4.7          3.2           1.3          0.2\n3             4.6          3.1           1.5          0.2\n4             5.0          3.6           1.4          0.2\n..            ...          ...           ...          ...\n145           6.7          3.0           5.2          2.3\n146           6.3          2.5           5.0          1.9\n147           6.5          3.0           5.2          2.0\n148           6.2          3.4           5.4          2.3\n149           5.9          3.0           5.1          1.8\n\n[150 rows x 4 columns]",
      "text/html": "<div>\n<style scoped>\n    .dataframe tbody tr th:only-of-type {\n        vertical-align: middle;\n    }\n\n    .dataframe tbody tr th {\n        vertical-align: top;\n    }\n\n    .dataframe thead th {\n        text-align: right;\n    }\n</style>\n<table border=\"1\" class=\"dataframe\">\n  <thead>\n    <tr style=\"text-align: right;\">\n      <th></th>\n      <th>sepal_length</th>\n      <th>sepal_width</th>\n      <th>petal_length</th>\n      <th>petal_width</th>\n    </tr>\n  </thead>\n  <tbody>\n    <tr>\n      <th>0</th>\n      <td>5.1</td>\n      <td>3.5</td>\n      <td>1.4</td>\n      <td>0.2</td>\n    </tr>\n    <tr>\n      <th>1</th>\n      <td>4.9</td>\n      <td>3.0</td>\n      <td>1.4</td>\n      <td>0.2</td>\n    </tr>\n    <tr>\n      <th>2</th>\n      <td>4.7</td>\n      <td>3.2</td>\n      <td>1.3</td>\n      <td>0.2</td>\n    </tr>\n    <tr>\n      <th>3</th>\n      <td>4.6</td>\n      <td>3.1</td>\n      <td>1.5</td>\n      <td>0.2</td>\n    </tr>\n    <tr>\n      <th>4</th>\n      <td>5.0</td>\n      <td>3.6</td>\n      <td>1.4</td>\n      <td>0.2</td>\n    </tr>\n    <tr>\n      <th>...</th>\n      <td>...</td>\n      <td>...</td>\n      <td>...</td>\n      <td>...</td>\n    </tr>\n    <tr>\n      <th>145</th>\n      <td>6.7</td>\n      <td>3.0</td>\n      <td>5.2</td>\n      <td>2.3</td>\n    </tr>\n    <tr>\n      <th>146</th>\n      <td>6.3</td>\n      <td>2.5</td>\n      <td>5.0</td>\n      <td>1.9</td>\n    </tr>\n    <tr>\n      <th>147</th>\n      <td>6.5</td>\n      <td>3.0</td>\n      <td>5.2</td>\n      <td>2.0</td>\n    </tr>\n    <tr>\n      <th>148</th>\n      <td>6.2</td>\n      <td>3.4</td>\n      <td>5.4</td>\n      <td>2.3</td>\n    </tr>\n    <tr>\n      <th>149</th>\n      <td>5.9</td>\n      <td>3.0</td>\n      <td>5.1</td>\n      <td>1.8</td>\n    </tr>\n  </tbody>\n</table>\n<p>150 rows × 4 columns</p>\n</div>"
     },
     "metadata": {},
     "execution_count": 5
    }
   ],
   "source": [
    "df = pd.read_csv('../Data/B2/iris.csv').iloc[:,:4]\n",
    "df"
   ]
  },
  {
   "cell_type": "code",
   "execution_count": 6,
   "metadata": {},
   "outputs": [
    {
     "output_type": "execute_result",
     "data": {
      "text/plain": "(array([[-6.16171172e-02,  1.29969428e-01, -5.58364155e-05, ...,\n         -9.34637342e-02, -9.60224157e-02, -8.09922905e-02],\n        [-5.80722977e-02,  1.11371452e-01,  6.84386629e-02, ...,\n          3.66755322e-02, -3.24463474e-02,  1.27273399e-02],\n        [-5.67633852e-02,  1.18294769e-01,  2.31062793e-03, ...,\n          3.08252776e-02,  1.95234663e-01,  1.35567696e-01],\n        ...,\n        [-9.40702260e-02, -4.98348018e-02, -4.14958083e-02, ...,\n          9.81822841e-01, -2.17978813e-02, -8.85972146e-03],\n        [-9.48993908e-02, -5.62107520e-02, -2.12386574e-01, ...,\n         -2.14264126e-02,  9.42038920e-01, -2.96933496e-02],\n        [-8.84882764e-02, -5.16210172e-02, -9.51442925e-02, ...,\n         -8.52768485e-03, -3.02139863e-02,  9.73577349e-01]]),\n array([95.95066751, 17.72295328,  3.46929666,  1.87891236]),\n array([[-0.75116805, -0.37978837, -0.51315094, -0.16787934],\n        [ 0.28583096,  0.54488976, -0.70889874, -0.34475845],\n        [ 0.49942378, -0.67502499, -0.05471983, -0.54029889],\n        [ 0.32345496, -0.32124324, -0.48077482,  0.74902286]]))"
     },
     "metadata": {},
     "execution_count": 6
    }
   ],
   "source": [
    "np.linalg.svd(df)"
   ]
  },
  {
   "cell_type": "code",
   "execution_count": 7,
   "metadata": {},
   "outputs": [],
   "source": [
    "u, s, vT = np.linalg.svd(df)"
   ]
  },
  {
   "cell_type": "code",
   "execution_count": 8,
   "metadata": {},
   "outputs": [],
   "source": [
    "# 2 Singular value 3,4 co gia tri nho khi so sanh voi 2 Singular 1 va 2, nen co the giam demension xuong n = 2"
   ]
  },
  {
   "cell_type": "code",
   "execution_count": 9,
   "metadata": {},
   "outputs": [],
   "source": [
    "n = 2"
   ]
  },
  {
   "cell_type": "code",
   "execution_count": 12,
   "metadata": {},
   "outputs": [
    {
     "output_type": "execute_result",
     "data": {
      "text/plain": "array([[95.95066751,  0.        ],\n       [ 0.        , 17.72295328]])"
     },
     "metadata": {},
     "execution_count": 12
    }
   ],
   "source": [
    "sigma_1_2 = np.diag(s[:n])\n",
    "sigma_1_2"
   ]
  },
  {
   "cell_type": "code",
   "execution_count": 16,
   "metadata": {},
   "outputs": [
    {
     "output_type": "execute_result",
     "data": {
      "text/plain": "     sepal_length  sepal_width  petal_length  petal_width\n0        5.099453     3.500508      1.400946     0.198406\n1        4.749747     3.191730      1.460070     0.254941\n2        4.690479     3.210891      1.308639     0.191555\n3        4.618348     3.084397      1.462666     0.267318\n4        5.078961     3.500519      1.363524     0.183240\n..            ...          ...           ...          ...\n145      6.665127     2.997728      5.393597     1.869419\n146      6.138637     2.688659      5.130763     1.795516\n147      6.527667     2.946751      5.257866     1.819793\n148      6.555130     2.915393      5.378797     1.872108\n149      6.116299     2.726090      5.005468     1.740793\n\n[150 rows x 4 columns]",
      "text/html": "<div>\n<style scoped>\n    .dataframe tbody tr th:only-of-type {\n        vertical-align: middle;\n    }\n\n    .dataframe tbody tr th {\n        vertical-align: top;\n    }\n\n    .dataframe thead th {\n        text-align: right;\n    }\n</style>\n<table border=\"1\" class=\"dataframe\">\n  <thead>\n    <tr style=\"text-align: right;\">\n      <th></th>\n      <th>sepal_length</th>\n      <th>sepal_width</th>\n      <th>petal_length</th>\n      <th>petal_width</th>\n    </tr>\n  </thead>\n  <tbody>\n    <tr>\n      <th>0</th>\n      <td>5.099453</td>\n      <td>3.500508</td>\n      <td>1.400946</td>\n      <td>0.198406</td>\n    </tr>\n    <tr>\n      <th>1</th>\n      <td>4.749747</td>\n      <td>3.191730</td>\n      <td>1.460070</td>\n      <td>0.254941</td>\n    </tr>\n    <tr>\n      <th>2</th>\n      <td>4.690479</td>\n      <td>3.210891</td>\n      <td>1.308639</td>\n      <td>0.191555</td>\n    </tr>\n    <tr>\n      <th>3</th>\n      <td>4.618348</td>\n      <td>3.084397</td>\n      <td>1.462666</td>\n      <td>0.267318</td>\n    </tr>\n    <tr>\n      <th>4</th>\n      <td>5.078961</td>\n      <td>3.500519</td>\n      <td>1.363524</td>\n      <td>0.183240</td>\n    </tr>\n    <tr>\n      <th>...</th>\n      <td>...</td>\n      <td>...</td>\n      <td>...</td>\n      <td>...</td>\n    </tr>\n    <tr>\n      <th>145</th>\n      <td>6.665127</td>\n      <td>2.997728</td>\n      <td>5.393597</td>\n      <td>1.869419</td>\n    </tr>\n    <tr>\n      <th>146</th>\n      <td>6.138637</td>\n      <td>2.688659</td>\n      <td>5.130763</td>\n      <td>1.795516</td>\n    </tr>\n    <tr>\n      <th>147</th>\n      <td>6.527667</td>\n      <td>2.946751</td>\n      <td>5.257866</td>\n      <td>1.819793</td>\n    </tr>\n    <tr>\n      <th>148</th>\n      <td>6.555130</td>\n      <td>2.915393</td>\n      <td>5.378797</td>\n      <td>1.872108</td>\n    </tr>\n    <tr>\n      <th>149</th>\n      <td>6.116299</td>\n      <td>2.726090</td>\n      <td>5.005468</td>\n      <td>1.740793</td>\n    </tr>\n  </tbody>\n</table>\n<p>150 rows × 4 columns</p>\n</div>"
     },
     "metadata": {},
     "execution_count": 16
    }
   ],
   "source": [
    "df_new = pd.DataFrame(u[:, :n] @ sigma_1_2 @ vT[:n, :], columns=df.columns)\n",
    "df_new"
   ]
  },
  {
   "cell_type": "code",
   "execution_count": 17,
   "metadata": {},
   "outputs": [
    {
     "output_type": "execute_result",
     "data": {
      "text/plain": "     sepal_length  sepal_width  petal_length  petal_width\n0        0.000547    -0.000508     -0.000946     0.001594\n1        0.150253    -0.191730     -0.060070    -0.054941\n2        0.009521    -0.010891     -0.008639     0.008445\n3       -0.018348     0.015603      0.037334    -0.067318\n4       -0.078961     0.099481      0.036476     0.016760\n..            ...          ...           ...          ...\n145      0.034873     0.002272     -0.193597     0.430581\n146      0.161363    -0.188659     -0.130763     0.104484\n147     -0.027667     0.053249     -0.057866     0.180207\n148     -0.355130     0.484607      0.021203     0.427892\n149     -0.216299     0.273910      0.094532     0.059207\n\n[150 rows x 4 columns]",
      "text/html": "<div>\n<style scoped>\n    .dataframe tbody tr th:only-of-type {\n        vertical-align: middle;\n    }\n\n    .dataframe tbody tr th {\n        vertical-align: top;\n    }\n\n    .dataframe thead th {\n        text-align: right;\n    }\n</style>\n<table border=\"1\" class=\"dataframe\">\n  <thead>\n    <tr style=\"text-align: right;\">\n      <th></th>\n      <th>sepal_length</th>\n      <th>sepal_width</th>\n      <th>petal_length</th>\n      <th>petal_width</th>\n    </tr>\n  </thead>\n  <tbody>\n    <tr>\n      <th>0</th>\n      <td>0.000547</td>\n      <td>-0.000508</td>\n      <td>-0.000946</td>\n      <td>0.001594</td>\n    </tr>\n    <tr>\n      <th>1</th>\n      <td>0.150253</td>\n      <td>-0.191730</td>\n      <td>-0.060070</td>\n      <td>-0.054941</td>\n    </tr>\n    <tr>\n      <th>2</th>\n      <td>0.009521</td>\n      <td>-0.010891</td>\n      <td>-0.008639</td>\n      <td>0.008445</td>\n    </tr>\n    <tr>\n      <th>3</th>\n      <td>-0.018348</td>\n      <td>0.015603</td>\n      <td>0.037334</td>\n      <td>-0.067318</td>\n    </tr>\n    <tr>\n      <th>4</th>\n      <td>-0.078961</td>\n      <td>0.099481</td>\n      <td>0.036476</td>\n      <td>0.016760</td>\n    </tr>\n    <tr>\n      <th>...</th>\n      <td>...</td>\n      <td>...</td>\n      <td>...</td>\n      <td>...</td>\n    </tr>\n    <tr>\n      <th>145</th>\n      <td>0.034873</td>\n      <td>0.002272</td>\n      <td>-0.193597</td>\n      <td>0.430581</td>\n    </tr>\n    <tr>\n      <th>146</th>\n      <td>0.161363</td>\n      <td>-0.188659</td>\n      <td>-0.130763</td>\n      <td>0.104484</td>\n    </tr>\n    <tr>\n      <th>147</th>\n      <td>-0.027667</td>\n      <td>0.053249</td>\n      <td>-0.057866</td>\n      <td>0.180207</td>\n    </tr>\n    <tr>\n      <th>148</th>\n      <td>-0.355130</td>\n      <td>0.484607</td>\n      <td>0.021203</td>\n      <td>0.427892</td>\n    </tr>\n    <tr>\n      <th>149</th>\n      <td>-0.216299</td>\n      <td>0.273910</td>\n      <td>0.094532</td>\n      <td>0.059207</td>\n    </tr>\n  </tbody>\n</table>\n<p>150 rows × 4 columns</p>\n</div>"
     },
     "metadata": {},
     "execution_count": 17
    }
   ],
   "source": [
    "df - df_new"
   ]
  },
  {
   "cell_type": "code",
   "execution_count": 21,
   "metadata": {},
   "outputs": [
    {
     "output_type": "execute_result",
     "data": {
      "text/plain": "(150, 4)"
     },
     "metadata": {},
     "execution_count": 21
    }
   ],
   "source": [
    "# Create Sigma m x n = 150 x 4\n",
    "sigma = np.pad(np.diag(s), ((0,150-4),(0,0)) )\n",
    "sigma.shape"
   ]
  },
  {
   "cell_type": "code",
   "execution_count": 23,
   "metadata": {},
   "outputs": [
    {
     "output_type": "execute_result",
     "data": {
      "text/plain": "     sepal_length  sepal_width  petal_length  petal_width\n0             5.1          3.5           1.4          0.2\n1             4.9          3.0           1.4          0.2\n2             4.7          3.2           1.3          0.2\n3             4.6          3.1           1.5          0.2\n4             5.0          3.6           1.4          0.2\n..            ...          ...           ...          ...\n145           6.7          3.0           5.2          2.3\n146           6.3          2.5           5.0          1.9\n147           6.5          3.0           5.2          2.0\n148           6.2          3.4           5.4          2.3\n149           5.9          3.0           5.1          1.8\n\n[150 rows x 4 columns]",
      "text/html": "<div>\n<style scoped>\n    .dataframe tbody tr th:only-of-type {\n        vertical-align: middle;\n    }\n\n    .dataframe tbody tr th {\n        vertical-align: top;\n    }\n\n    .dataframe thead th {\n        text-align: right;\n    }\n</style>\n<table border=\"1\" class=\"dataframe\">\n  <thead>\n    <tr style=\"text-align: right;\">\n      <th></th>\n      <th>sepal_length</th>\n      <th>sepal_width</th>\n      <th>petal_length</th>\n      <th>petal_width</th>\n    </tr>\n  </thead>\n  <tbody>\n    <tr>\n      <th>0</th>\n      <td>5.1</td>\n      <td>3.5</td>\n      <td>1.4</td>\n      <td>0.2</td>\n    </tr>\n    <tr>\n      <th>1</th>\n      <td>4.9</td>\n      <td>3.0</td>\n      <td>1.4</td>\n      <td>0.2</td>\n    </tr>\n    <tr>\n      <th>2</th>\n      <td>4.7</td>\n      <td>3.2</td>\n      <td>1.3</td>\n      <td>0.2</td>\n    </tr>\n    <tr>\n      <th>3</th>\n      <td>4.6</td>\n      <td>3.1</td>\n      <td>1.5</td>\n      <td>0.2</td>\n    </tr>\n    <tr>\n      <th>4</th>\n      <td>5.0</td>\n      <td>3.6</td>\n      <td>1.4</td>\n      <td>0.2</td>\n    </tr>\n    <tr>\n      <th>...</th>\n      <td>...</td>\n      <td>...</td>\n      <td>...</td>\n      <td>...</td>\n    </tr>\n    <tr>\n      <th>145</th>\n      <td>6.7</td>\n      <td>3.0</td>\n      <td>5.2</td>\n      <td>2.3</td>\n    </tr>\n    <tr>\n      <th>146</th>\n      <td>6.3</td>\n      <td>2.5</td>\n      <td>5.0</td>\n      <td>1.9</td>\n    </tr>\n    <tr>\n      <th>147</th>\n      <td>6.5</td>\n      <td>3.0</td>\n      <td>5.2</td>\n      <td>2.0</td>\n    </tr>\n    <tr>\n      <th>148</th>\n      <td>6.2</td>\n      <td>3.4</td>\n      <td>5.4</td>\n      <td>2.3</td>\n    </tr>\n    <tr>\n      <th>149</th>\n      <td>5.9</td>\n      <td>3.0</td>\n      <td>5.1</td>\n      <td>1.8</td>\n    </tr>\n  </tbody>\n</table>\n<p>150 rows × 4 columns</p>\n</div>"
     },
     "metadata": {},
     "execution_count": 23
    }
   ],
   "source": [
    "df_re_create = pd.DataFrame(u @ sigma @ vT, columns=df.columns)\n",
    "df_re_create"
   ]
  },
  {
   "cell_type": "code",
   "execution_count": 25,
   "metadata": {},
   "outputs": [
    {
     "output_type": "execute_result",
     "data": {
      "text/plain": "True"
     },
     "metadata": {},
     "execution_count": 25
    }
   ],
   "source": [
    "np.allclose(df, df_re_create)"
   ]
  },
  {
   "cell_type": "code",
   "execution_count": null,
   "metadata": {},
   "outputs": [],
   "source": []
  }
 ],
 "metadata": {
  "language_info": {
   "codemirror_mode": {
    "name": "ipython",
    "version": 3
   },
   "file_extension": ".py",
   "mimetype": "text/x-python",
   "name": "python",
   "nbconvert_exporter": "python",
   "pygments_lexer": "ipython3",
   "version": "3.7.7-final"
  },
  "orig_nbformat": 2,
  "kernelspec": {
   "name": "python37764bitailearncondac55bf7adc40a450a9629c3e2b471f312",
   "display_name": "Python 3.7.7 64-bit ('ai_learn': conda)"
  }
 },
 "nbformat": 4,
 "nbformat_minor": 2
}