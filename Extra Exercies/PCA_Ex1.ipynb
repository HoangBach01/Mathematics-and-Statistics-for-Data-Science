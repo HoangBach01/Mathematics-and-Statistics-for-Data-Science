{
 "metadata": {
  "language_info": {
   "codemirror_mode": {
    "name": "ipython",
    "version": 3
   },
   "file_extension": ".py",
   "mimetype": "text/x-python",
   "name": "python",
   "nbconvert_exporter": "python",
   "pygments_lexer": "ipython3",
   "version": "3.7.7-final"
  },
  "orig_nbformat": 2,
  "kernelspec": {
   "name": "python37764bitailearncondac55bf7adc40a450a9629c3e2b471f312",
   "display_name": "Python 3.7.7 64-bit ('ai_learn': conda)"
  }
 },
 "nbformat": 4,
 "nbformat_minor": 2,
 "cells": [
  {
   "cell_type": "code",
   "execution_count": 26,
   "metadata": {},
   "outputs": [],
   "source": [
    "import numpy as np\n",
    "from sklearn.decomposition import PCA"
   ]
  },
  {
   "cell_type": "code",
   "execution_count": 2,
   "metadata": {},
   "outputs": [],
   "source": [
    "np.random.seed(190)"
   ]
  },
  {
   "cell_type": "code",
   "execution_count": 3,
   "metadata": {},
   "outputs": [
    {
     "output_type": "execute_result",
     "data": {
      "text/plain": "array([[ 79, 141,  44],\n       [ 38,  89, 111],\n       [  4,  88, 105],\n       ...,\n       [ 58,  30,  46],\n       [222,  39, 101],\n       [231, 228, 173]])"
     },
     "metadata": {},
     "execution_count": 3
    }
   ],
   "source": [
    "A = np.random.randint(1,256,size=(3000,3))\n",
    "A"
   ]
  },
  {
   "cell_type": "code",
   "execution_count": 18,
   "metadata": {},
   "outputs": [],
   "source": [
    "# Cach 1: Dung sklearn PCA"
   ]
  },
  {
   "cell_type": "code",
   "execution_count": 4,
   "metadata": {},
   "outputs": [
    {
     "output_type": "execute_result",
     "data": {
      "text/plain": "PCA(n_components=3)"
     },
     "metadata": {},
     "execution_count": 4
    }
   ],
   "source": [
    "pca = PCA(3)\n",
    "pca.fit(A)"
   ]
  },
  {
   "cell_type": "code",
   "execution_count": 5,
   "metadata": {},
   "outputs": [
    {
     "output_type": "execute_result",
     "data": {
      "text/plain": "array([[ -66.55153416,    3.75775968,  -68.77147141],\n       [ -23.06818757,  -78.18483555,  -52.38215614],\n       [ -26.75764212,  -98.43140729,  -80.12137491],\n       ...,\n       [-107.24695672,  -91.31931987,  -23.27167441],\n       [ -63.9237229 ,    2.29863061,  115.87133389],\n       [  76.19053965,  126.97690536,   39.65243049]])"
     },
     "metadata": {},
     "execution_count": 5
    }
   ],
   "source": [
    "T = pca.transform(A)\n",
    "T"
   ]
  },
  {
   "cell_type": "code",
   "execution_count": 6,
   "metadata": {},
   "outputs": [
    {
     "output_type": "execute_result",
     "data": {
      "text/plain": "array([[ 79., 141.,  44.],\n       [ 38.,  89., 111.],\n       [  4.,  88., 105.],\n       ...,\n       [ 58.,  30.,  46.],\n       [222.,  39., 101.],\n       [231., 228., 173.]])"
     },
     "metadata": {},
     "execution_count": 6
    }
   ],
   "source": [
    "pca.inverse_transform(T)"
   ]
  },
  {
   "cell_type": "code",
   "execution_count": 19,
   "metadata": {},
   "outputs": [],
   "source": [
    "# Cach 2: Dung u @ sigma"
   ]
  },
  {
   "cell_type": "code",
   "execution_count": 11,
   "metadata": {},
   "outputs": [
    {
     "output_type": "execute_result",
     "data": {
      "text/plain": "array([126.01266667, 126.57733333, 126.186     ])"
     },
     "metadata": {},
     "execution_count": 11
    }
   ],
   "source": [
    "M = np.mean(A,axis=0)\n",
    "M"
   ]
  },
  {
   "cell_type": "code",
   "execution_count": 12,
   "metadata": {},
   "outputs": [],
   "source": [
    "C = A - M"
   ]
  },
  {
   "cell_type": "code",
   "execution_count": 13,
   "metadata": {},
   "outputs": [],
   "source": [
    "u, s, vT = np.linalg.svd(C)"
   ]
  },
  {
   "cell_type": "code",
   "execution_count": 14,
   "metadata": {},
   "outputs": [],
   "source": [
    "sigma = np.pad(np.diag(s), ((0,3000-3),(0,0)))"
   ]
  },
  {
   "cell_type": "code",
   "execution_count": 15,
   "metadata": {},
   "outputs": [
    {
     "output_type": "execute_result",
     "data": {
      "text/plain": "array([[ -66.55153416,    3.75775968,  -68.77147141],\n       [ -23.06818757,  -78.18483555,  -52.38215614],\n       [ -26.75764212,  -98.43140729,  -80.12137491],\n       ...,\n       [-107.24695672,  -91.31931987,  -23.27167441],\n       [ -63.9237229 ,    2.29863061,  115.87133389],\n       [  76.19053965,  126.97690536,   39.65243049]])"
     },
     "metadata": {},
     "execution_count": 15
    }
   ],
   "source": [
    "u @ sigma"
   ]
  },
  {
   "cell_type": "code",
   "execution_count": null,
   "metadata": {},
   "outputs": [],
   "source": []
  }
 ]
}