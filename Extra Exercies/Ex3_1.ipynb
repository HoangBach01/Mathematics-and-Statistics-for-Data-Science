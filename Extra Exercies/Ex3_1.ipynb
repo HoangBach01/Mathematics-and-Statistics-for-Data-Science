{
 "cells": [
  {
   "cell_type": "code",
   "execution_count": 1,
   "metadata": {},
   "outputs": [],
   "source": [
    "import numpy as np\n",
    "import pandas as pd\n",
    "import scipy.linalg"
   ]
  },
  {
   "cell_type": "code",
   "execution_count": 6,
   "metadata": {},
   "outputs": [
    {
     "output_type": "execute_result",
     "data": {
      "text/plain": "       post1  post2  post3  post4\nword                             \nice        4      4      6      2\nsnow       6      1      0      5\ntahoe      3      0      0      5\ngoal       0      6      5      1\npuck       0      4      5      0",
      "text/html": "<div>\n<style scoped>\n    .dataframe tbody tr th:only-of-type {\n        vertical-align: middle;\n    }\n\n    .dataframe tbody tr th {\n        vertical-align: top;\n    }\n\n    .dataframe thead th {\n        text-align: right;\n    }\n</style>\n<table border=\"1\" class=\"dataframe\">\n  <thead>\n    <tr style=\"text-align: right;\">\n      <th></th>\n      <th>post1</th>\n      <th>post2</th>\n      <th>post3</th>\n      <th>post4</th>\n    </tr>\n    <tr>\n      <th>word</th>\n      <th></th>\n      <th></th>\n      <th></th>\n      <th></th>\n    </tr>\n  </thead>\n  <tbody>\n    <tr>\n      <th>ice</th>\n      <td>4</td>\n      <td>4</td>\n      <td>6</td>\n      <td>2</td>\n    </tr>\n    <tr>\n      <th>snow</th>\n      <td>6</td>\n      <td>1</td>\n      <td>0</td>\n      <td>5</td>\n    </tr>\n    <tr>\n      <th>tahoe</th>\n      <td>3</td>\n      <td>0</td>\n      <td>0</td>\n      <td>5</td>\n    </tr>\n    <tr>\n      <th>goal</th>\n      <td>0</td>\n      <td>6</td>\n      <td>5</td>\n      <td>1</td>\n    </tr>\n    <tr>\n      <th>puck</th>\n      <td>0</td>\n      <td>4</td>\n      <td>5</td>\n      <td>0</td>\n    </tr>\n  </tbody>\n</table>\n</div>"
     },
     "metadata": {},
     "execution_count": 6
    }
   ],
   "source": [
    "df = pd.read_csv('../Data/B2/ex3.csv', index_col=0)\n",
    "df"
   ]
  },
  {
   "cell_type": "code",
   "execution_count": 7,
   "metadata": {},
   "outputs": [],
   "source": [
    "u, s, vT = np.linalg.svd(df)"
   ]
  },
  {
   "cell_type": "code",
   "execution_count": 8,
   "metadata": {},
   "outputs": [
    {
     "output_type": "execute_result",
     "data": {
      "text/plain": "array([[-0.62610079,  0.01852561,  0.6259093 ,  0.23487748, -0.40090488],\n       [-0.35134826, -0.67829097,  0.0779915 , -0.56006159,  0.311005  ],\n       [-0.21940528, -0.51980146, -0.50346468,  0.6484906 , -0.08747016],\n       [-0.51965373,  0.37026259, -0.59046979, -0.38005352, -0.31586445],\n       [-0.40788911,  0.36371724, -0.00485878,  0.25726028,  0.79695031]])"
     },
     "metadata": {},
     "execution_count": 8
    }
   ],
   "source": [
    "u"
   ]
  },
  {
   "cell_type": "code",
   "execution_count": 9,
   "metadata": {},
   "outputs": [
    {
     "output_type": "execute_result",
     "data": {
      "text/plain": "array([13.3221948 ,  9.2609512 ,  2.41918664,  1.37892883])"
     },
     "metadata": {},
     "execution_count": 9
    }
   ],
   "source": [
    "s"
   ]
  },
  {
   "cell_type": "code",
   "execution_count": 10,
   "metadata": {},
   "outputs": [
    {
     "output_type": "execute_result",
     "data": {
      "text/plain": "array([[-0.39563365, -0.57086917, -0.6301003 , -0.34721178],\n       [-0.59983555,  0.33174302,  0.4082791 , -0.60286986],\n       [ 0.60400142, -0.40535325,  0.32193174, -0.60599586],\n       [-0.34475152, -0.63225288,  0.57675103,  0.38569539]])"
     },
     "metadata": {},
     "execution_count": 10
    }
   ],
   "source": [
    "vT"
   ]
  },
  {
   "cell_type": "code",
   "execution_count": 11,
   "metadata": {},
   "outputs": [
    {
     "output_type": "execute_result",
     "data": {
      "text/plain": "(5, 4)"
     },
     "metadata": {},
     "execution_count": 11
    }
   ],
   "source": [
    "df.shape"
   ]
  },
  {
   "cell_type": "code",
   "execution_count": 14,
   "metadata": {},
   "outputs": [
    {
     "output_type": "execute_result",
     "data": {
      "text/plain": "array([[13.3221948 ,  0.        ,  0.        ,  0.        ],\n       [ 0.        ,  9.2609512 ,  0.        ,  0.        ],\n       [ 0.        ,  0.        ,  2.41918664,  0.        ],\n       [ 0.        ,  0.        ,  0.        ,  1.37892883],\n       [ 0.        ,  0.        ,  0.        ,  0.        ]])"
     },
     "metadata": {},
     "execution_count": 14
    }
   ],
   "source": [
    "sigma = np.pad(np.diag(s), ((0,1),(0,0)))\n",
    "sigma"
   ]
  },
  {
   "cell_type": "code",
   "execution_count": 26,
   "metadata": {},
   "outputs": [
    {
     "output_type": "execute_result",
     "data": {
      "text/plain": "array([[ 4.,  4.,  6.,  2.],\n       [ 6.,  1., -0.,  5.],\n       [ 3.,  0., -0.,  5.],\n       [ 0.,  6.,  5.,  1.],\n       [ 0.,  4.,  5., -0.]])"
     },
     "metadata": {},
     "execution_count": 26
    }
   ],
   "source": [
    "df_re_create = u @ sigma @ vT\n",
    "np.around(df_re_create, 2)"
   ]
  },
  {
   "cell_type": "code",
   "execution_count": 27,
   "metadata": {},
   "outputs": [
    {
     "output_type": "execute_result",
     "data": {
      "text/plain": "True"
     },
     "metadata": {},
     "execution_count": 27
    }
   ],
   "source": [
    "np.allclose(df_re_create, df)"
   ]
  },
  {
   "cell_type": "code",
   "execution_count": 31,
   "metadata": {},
   "outputs": [],
   "source": [
    "# Nhan xet: s value 2 gia tri dau tien lon, 2 gia tri sau nho nen co the luot bot 2 thanh phan, giam demension xuong con 2-D\n",
    "n = 2"
   ]
  },
  {
   "cell_type": "code",
   "execution_count": 35,
   "metadata": {},
   "outputs": [],
   "source": [
    "s_reduce = s[:2]\n",
    "sigma_reduce = np.diag(s_reduce) # Size 2x2"
   ]
  },
  {
   "cell_type": "code",
   "execution_count": 36,
   "metadata": {},
   "outputs": [],
   "source": [
    "u_reduce = u[:, :2] # Size 5 x 2\n",
    "vT_reduce = vT[:2, :] # Size 2 x 4"
   ]
  },
  {
   "cell_type": "code",
   "execution_count": 37,
   "metadata": {},
   "outputs": [
    {
     "output_type": "execute_result",
     "data": {
      "text/plain": "array([[ 3.19708412,  4.81855605,  5.32573599,  2.79267497],\n       [ 5.61979298,  0.58820097,  0.38467542,  5.41220366],\n       [ 4.04394318,  0.07166455, -0.12363886,  3.91701473],\n       [ 0.68211703,  5.08962774,  5.76212157,  0.33649133],\n       [ 0.12939801,  4.21952303,  4.79918534, -0.14394602]])"
     },
     "metadata": {},
     "execution_count": 37
    }
   ],
   "source": [
    "df_new = u_reduce @ sigma_reduce @ vT_reduce\n",
    "df_new"
   ]
  },
  {
   "cell_type": "code",
   "execution_count": 40,
   "metadata": {},
   "outputs": [
    {
     "output_type": "execute_result",
     "data": {
      "text/plain": "          post1     post2     post3     post4\nword                                         \nice    0.802916 -0.818556  0.674264 -0.792675\nsnow   0.380207  0.411799 -0.384675 -0.412204\ntahoe -1.043943 -0.071665  0.123639  1.082985\ngoal  -0.682117  0.910372 -0.762122  0.663509\npuck  -0.129398 -0.219523  0.200815  0.143946",
      "text/html": "<div>\n<style scoped>\n    .dataframe tbody tr th:only-of-type {\n        vertical-align: middle;\n    }\n\n    .dataframe tbody tr th {\n        vertical-align: top;\n    }\n\n    .dataframe thead th {\n        text-align: right;\n    }\n</style>\n<table border=\"1\" class=\"dataframe\">\n  <thead>\n    <tr style=\"text-align: right;\">\n      <th></th>\n      <th>post1</th>\n      <th>post2</th>\n      <th>post3</th>\n      <th>post4</th>\n    </tr>\n    <tr>\n      <th>word</th>\n      <th></th>\n      <th></th>\n      <th></th>\n      <th></th>\n    </tr>\n  </thead>\n  <tbody>\n    <tr>\n      <th>ice</th>\n      <td>0.802916</td>\n      <td>-0.818556</td>\n      <td>0.674264</td>\n      <td>-0.792675</td>\n    </tr>\n    <tr>\n      <th>snow</th>\n      <td>0.380207</td>\n      <td>0.411799</td>\n      <td>-0.384675</td>\n      <td>-0.412204</td>\n    </tr>\n    <tr>\n      <th>tahoe</th>\n      <td>-1.043943</td>\n      <td>-0.071665</td>\n      <td>0.123639</td>\n      <td>1.082985</td>\n    </tr>\n    <tr>\n      <th>goal</th>\n      <td>-0.682117</td>\n      <td>0.910372</td>\n      <td>-0.762122</td>\n      <td>0.663509</td>\n    </tr>\n    <tr>\n      <th>puck</th>\n      <td>-0.129398</td>\n      <td>-0.219523</td>\n      <td>0.200815</td>\n      <td>0.143946</td>\n    </tr>\n  </tbody>\n</table>\n</div>"
     },
     "metadata": {},
     "execution_count": 40
    }
   ],
   "source": [
    "df - df_new"
   ]
  },
  {
   "cell_type": "code",
   "execution_count": null,
   "metadata": {},
   "outputs": [],
   "source": []
  }
 ],
 "metadata": {
  "language_info": {
   "codemirror_mode": {
    "name": "ipython",
    "version": 3
   },
   "file_extension": ".py",
   "mimetype": "text/x-python",
   "name": "python",
   "nbconvert_exporter": "python",
   "pygments_lexer": "ipython3",
   "version": "3.7.7-final"
  },
  "orig_nbformat": 2,
  "kernelspec": {
   "name": "python37764bitailearncondac55bf7adc40a450a9629c3e2b471f312",
   "display_name": "Python 3.7.7 64-bit ('ai_learn': conda)"
  }
 },
 "nbformat": 4,
 "nbformat_minor": 2
}