{
 "metadata": {
  "language_info": {
   "codemirror_mode": {
    "name": "ipython",
    "version": 3
   },
   "file_extension": ".py",
   "mimetype": "text/x-python",
   "name": "python",
   "nbconvert_exporter": "python",
   "pygments_lexer": "ipython3",
   "version": "3.7.7-final"
  },
  "orig_nbformat": 2,
  "kernelspec": {
   "name": "python_defaultSpec_1600592347759",
   "display_name": "Python 3.7.7 64-bit ('ai_learn': conda)"
  }
 },
 "nbformat": 4,
 "nbformat_minor": 2,
 "cells": [
  {
   "cell_type": "markdown",
   "metadata": {},
   "source": [
    "# <center>MATHEMATICS AND STATISTICS FOR DATA SCIENCE</center>\n",
    "<center>Thời gian: 180 phút</center>\n",
    "<center>Ngày thi: 20/09/2020</center>\n",
    "<center> ****** </center>\n",
    "<center>Thí sinh: <b>TRẦN HOÀNG BÁCH  </b> </center>    \n",
    "<center>   ---   </b> </center>  \n",
    "<center>Câu 4: Kiểm định ANOVA </b> </center>"
   ]
  },
  {
   "cell_type": "code",
   "execution_count": 1,
   "metadata": {},
   "outputs": [],
   "source": [
    "import numpy as np\n",
    "import pandas as pd\n",
    "import matplotlib.pyplot as plt\n",
    "import seaborn as sb\n",
    "import scipy.stats as stats\n",
    "\n",
    "from statsmodels.stats.multicomp import pairwise_tukeyhsd"
   ]
  },
  {
   "cell_type": "code",
   "execution_count": 2,
   "metadata": {},
   "outputs": [
    {
     "output_type": "execute_result",
     "data": {
      "text/plain": "     A     B      C     D\n0   93  85.0  100.0  96.0\n1  120  45.0   75.0  58.0\n2   65  80.0   65.0  95.0\n3  105  28.0   40.0  90.0\n4  115  75.0   73.0  65.0",
      "text/html": "<div>\n<style scoped>\n    .dataframe tbody tr th:only-of-type {\n        vertical-align: middle;\n    }\n\n    .dataframe tbody tr th {\n        vertical-align: top;\n    }\n\n    .dataframe thead th {\n        text-align: right;\n    }\n</style>\n<table border=\"1\" class=\"dataframe\">\n  <thead>\n    <tr style=\"text-align: right;\">\n      <th></th>\n      <th>A</th>\n      <th>B</th>\n      <th>C</th>\n      <th>D</th>\n    </tr>\n  </thead>\n  <tbody>\n    <tr>\n      <th>0</th>\n      <td>93</td>\n      <td>85.0</td>\n      <td>100.0</td>\n      <td>96.0</td>\n    </tr>\n    <tr>\n      <th>1</th>\n      <td>120</td>\n      <td>45.0</td>\n      <td>75.0</td>\n      <td>58.0</td>\n    </tr>\n    <tr>\n      <th>2</th>\n      <td>65</td>\n      <td>80.0</td>\n      <td>65.0</td>\n      <td>95.0</td>\n    </tr>\n    <tr>\n      <th>3</th>\n      <td>105</td>\n      <td>28.0</td>\n      <td>40.0</td>\n      <td>90.0</td>\n    </tr>\n    <tr>\n      <th>4</th>\n      <td>115</td>\n      <td>75.0</td>\n      <td>73.0</td>\n      <td>65.0</td>\n    </tr>\n  </tbody>\n</table>\n</div>"
     },
     "metadata": {},
     "execution_count": 2
    }
   ],
   "source": [
    "df = pd.read_csv('Data/One way ANOVA.txt', delimiter='\\t')\n",
    "df.head()"
   ]
  },
  {
   "cell_type": "code",
   "execution_count": 3,
   "metadata": {
    "tags": []
   },
   "outputs": [
    {
     "output_type": "stream",
     "name": "stdout",
     "text": "<class 'pandas.core.frame.DataFrame'>\nRangeIndex: 15 entries, 0 to 14\nData columns (total 4 columns):\n #   Column  Non-Null Count  Dtype  \n---  ------  --------------  -----  \n 0   A       15 non-null     int64  \n 1   B       10 non-null     float64\n 2   C       12 non-null     float64\n 3   D       9 non-null      float64\ndtypes: float64(3), int64(1)\nmemory usage: 608.0 bytes\n"
    }
   ],
   "source": [
    "# Check null-value\n",
    "df.info()"
   ]
  },
  {
   "cell_type": "code",
   "execution_count": 4,
   "metadata": {},
   "outputs": [],
   "source": [
    "A = np.array(df['A'].dropna())\n",
    "B = np.array(df['B'].dropna())\n",
    "C = np.array(df['C'].dropna())\n",
    "D = np.array(df['D'].dropna())"
   ]
  },
  {
   "cell_type": "markdown",
   "metadata": {},
   "source": [
    "## Câu 4.1\n",
    "Để kiểm định các quần thể có cùng phương sai, ta sử dụng Kiểm định Levene  \n",
    "\n",
    "* H0: All Samples are from population with equal Variance\n",
    "* Ha: Have at least 1 difference Variance"
   ]
  },
  {
   "cell_type": "code",
   "execution_count": 5,
   "metadata": {},
   "outputs": [
    {
     "output_type": "execute_result",
     "data": {
      "text/plain": "0.5020818274234007"
     },
     "metadata": {},
     "execution_count": 5
    }
   ],
   "source": [
    "# Levene test\n",
    "alpha = 0.05\n",
    "t_lev, p_lev = stats.levene(A, B, C, D)\n",
    "p_lev"
   ]
  },
  {
   "cell_type": "code",
   "execution_count": 6,
   "metadata": {
    "tags": []
   },
   "outputs": [
    {
     "output_type": "stream",
     "name": "stdout",
     "text": "(p >  alpha) ==> FAIL TO REJECT the H0 that All Samples are from population with equal variances.\n"
    }
   ],
   "source": [
    "if p_lev > alpha:\n",
    "    print('(p >  alpha) ==> FAIL TO REJECT the H0 that All Samples are from population with equal variances.')\n",
    "else:\n",
    "    print('(p <= alpha) ==> REJECT the H0 that All Samples are from population with equal variances.')"
   ]
  },
  {
   "cell_type": "markdown",
   "metadata": {},
   "source": [
    "Nhận xét: Vì p > alpha nên Fail to Reject H0 \"Các quần thể có cùng phương sai\"  \n",
    "==> Vậy nên với độ tin cậy 95%, có thể kết luận các quần thể có cùng phương sai"
   ]
  },
  {
   "cell_type": "markdown",
   "metadata": {},
   "source": [
    "## Câu 4.2\n",
    "### Để có thể thực hiện kiểm định về giả thuyết H0 \"Các quần thể có cùng giá trị trung bình, ta thực hiện kiểm định One-way ANOVA  \n",
    "Để thực hiện kiểm định One-way ANOVA, trước hết cần thoả 3 điều kiện sau:\n",
    "* ĐK1: Các quan sát là độc lập\n",
    "\n",
    "* ĐK2: Các quần thể có phân phối chuẩn\n",
    "\n",
    "* ĐK3: Các quần thể có phương sai giống nhau\n",
    "\n",
    "ĐK1: Vì không có thông tin gì về mối liên quan giữa A, B, C, D nên xem như các mẫu là độc lập. ĐK1 thoả mãn.  \n",
    "\n",
    "ĐK2: Thoả mãn theo 4.1\n",
    "\n",
    "ĐK2: Thoả mãn theo thông tin từ đề bài\n",
    "\n",
    "==> Vậy có thể thực hiện kiểm định One-way ANOVA"
   ]
  },
  {
   "cell_type": "code",
   "execution_count": 7,
   "metadata": {
    "tags": []
   },
   "outputs": [
    {
     "output_type": "stream",
     "name": "stdout",
     "text": "SSB           : 12486.4848\ndfB           : 3\nSSW           : 11464.5722\ndfW           : 42\nF statistic   : 15.2479\n"
    }
   ],
   "source": [
    "# Cách 1: Tính toán truyền thống\n",
    "k = 4\n",
    "samples = []\n",
    "samples.append(A.tolist())\n",
    "samples.append(B.tolist())\n",
    "samples.append(C.tolist())\n",
    "samples.append(D.tolist())\n",
    "\n",
    "## Số phần tử của mỗi nhóm\n",
    "sizes = np.zeros(k)\n",
    "for j in range(k): \n",
    "    sizes[j] = np.size(samples[j])\n",
    "\n",
    "## Giá trị trung bình của mỗi mẫu\n",
    "means = np.zeros(k)\n",
    "for j in range(k):\n",
    "    means[j] = np.mean(samples[j])\n",
    "\n",
    "## Giá trị trung bình của tất cả các mẫu\n",
    "meanT = np.mean(means)\n",
    "\n",
    "## Các đại lượng BETWEEN groups: SSB, dfB\n",
    "SSB = 0\n",
    "for j in range(k):\n",
    "    SSB += sizes[j] * np.power((means[j] - meanT), 2)\n",
    "dfB = (k - 1)\n",
    "print('SSB           : %.4f' %SSB)\n",
    "print('dfB           : %d' %dfB)\n",
    "   \n",
    "## Các đại lượng WITHIN groups: SSW, dfW\n",
    "SSW = 0\n",
    "for j in range(k):\n",
    "    SSWj = 0\n",
    "    for i in range(int(sizes[j])):\n",
    "        SSWj += np.power(samples[j][i] - means[j], 2)\n",
    "    SSW += SSWj\n",
    "dfW = int(np.sum(sizes) - k)\n",
    "print('SSW           : %.4f' %SSW)\n",
    "print('dfW           : %d' %dfW)\n",
    "\n",
    "## Trị thống kê: F statistics\n",
    "F = (SSB / dfB) / (SSW / dfW)\n",
    "print('F statistic   : %.4f' %F)"
   ]
  },
  {
   "cell_type": "code",
   "execution_count": 8,
   "metadata": {
    "tags": []
   },
   "outputs": [
    {
     "output_type": "stream",
     "name": "stdout",
     "text": "Critical value: 2.8270\n(F >= critical value) ==> REJECT the H0 that the means are equal.\n"
    }
   ],
   "source": [
    "critical_value = stats.f.ppf(q = 1 - alpha, dfn = dfB, dfd = dfW)\n",
    "print('Critical value: %.4f' %critical_value)\n",
    "conf_level     = stats.f.cdf(critical_value, dfn = dfB, dfd = dfW)\n",
    "\n",
    "if (F < critical_value):\n",
    "    print('(F <  critical value) ==> FAIL TO REJECT the H0 that the means are equal.')\n",
    "else:\n",
    "    print('(F >= critical value) ==> REJECT the H0 that the means are equal.')"
   ]
  },
  {
   "cell_type": "code",
   "execution_count": 9,
   "metadata": {},
   "outputs": [
    {
     "output_type": "execute_result",
     "data": {
      "text/plain": "15.139053436390862"
     },
     "metadata": {},
     "execution_count": 9
    }
   ],
   "source": [
    "# Cách 2: Tính toán truyền thống\n",
    "f_ano, p_ano = stats.f_oneway(A, B, C, D)\n",
    "f_ano"
   ]
  },
  {
   "cell_type": "code",
   "execution_count": 10,
   "metadata": {
    "tags": []
   },
   "outputs": [
    {
     "output_type": "stream",
     "name": "stdout",
     "text": "(p <= alpha) ==> REJECT the H0 that the means are equal.\n"
    }
   ],
   "source": [
    "if p_ano > alpha:\n",
    "    print('(p >  alpha) ==> FAIL TO REJECT the H0 that the means are equal.')\n",
    "else:\n",
    "    print('(p <= alpha) ==> REJECT the H0 that the means are equal.')"
   ]
  },
  {
   "cell_type": "markdown",
   "metadata": {},
   "source": [
    "Nhận xét: Cách 1 và 2 đều cho ra kết quả REJECT H0 \"Các quần thể có cùng giá trị trung bình\"  \n",
    "\n",
    "==> Vậy nên với mức độ tin cậy 95%, có thể kết luận **Có tồn tại ít nhất 1 cặp quần thể có giá trị trung bình khác nhau**  \n",
    "\n",
    "Để xét thêm từng cặp khác nhau ra sao, ta thực hiện hậu kiểm (post-hoc test), chọn **Tukey HSD** test"
   ]
  },
  {
   "cell_type": "code",
   "execution_count": 11,
   "metadata": {
    "tags": []
   },
   "outputs": [
    {
     "output_type": "execute_result",
     "data": {
      "text/plain": "   index variable  value\n0      0        A   93.0\n1      1        A  120.0\n2      2        A   65.0\n3      3        A  105.0\n4      4        A  115.0",
      "text/html": "<div>\n<style scoped>\n    .dataframe tbody tr th:only-of-type {\n        vertical-align: middle;\n    }\n\n    .dataframe tbody tr th {\n        vertical-align: top;\n    }\n\n    .dataframe thead th {\n        text-align: right;\n    }\n</style>\n<table border=\"1\" class=\"dataframe\">\n  <thead>\n    <tr style=\"text-align: right;\">\n      <th></th>\n      <th>index</th>\n      <th>variable</th>\n      <th>value</th>\n    </tr>\n  </thead>\n  <tbody>\n    <tr>\n      <th>0</th>\n      <td>0</td>\n      <td>A</td>\n      <td>93.0</td>\n    </tr>\n    <tr>\n      <th>1</th>\n      <td>1</td>\n      <td>A</td>\n      <td>120.0</td>\n    </tr>\n    <tr>\n      <th>2</th>\n      <td>2</td>\n      <td>A</td>\n      <td>65.0</td>\n    </tr>\n    <tr>\n      <th>3</th>\n      <td>3</td>\n      <td>A</td>\n      <td>105.0</td>\n    </tr>\n    <tr>\n      <th>4</th>\n      <td>4</td>\n      <td>A</td>\n      <td>115.0</td>\n    </tr>\n  </tbody>\n</table>\n</div>"
     },
     "metadata": {},
     "execution_count": 11
    }
   ],
   "source": [
    "# Chuyển đổi dữ liệu để đưa vào form Tukey HSD test\n",
    "df_melt = pd.melt(df.reset_index(), id_vars=['index'], value_vars=['A', 'B', 'C', 'D'])\n",
    "df_melt = df_melt.dropna()\n",
    "df_melt.head()"
   ]
  },
  {
   "cell_type": "code",
   "execution_count": 12,
   "metadata": {
    "tags": []
   },
   "outputs": [
    {
     "output_type": "stream",
     "name": "stdout",
     "text": "Multiple Comparison of Means - Tukey HSD, FWER=0.05  \n======================================================\ngroup1 group2 meandiff p-adj   lower    upper   reject\n------------------------------------------------------\n     A      B -35.3667  0.001 -53.4103  -17.323   True\n     A      C -36.9167  0.001 -54.0344 -19.7989   True\n     A      D -11.7778 0.3415 -30.4132   6.8577  False\n     B      C    -1.55    0.9 -20.4744  17.3744  False\n     B      D  23.5889 0.0171   3.2814  43.8964   True\n     C      D  25.1389 0.0068   5.6495  44.6283   True\n------------------------------------------------------\n"
    }
   ],
   "source": [
    "# Tukey HSD test\n",
    "m_comp = pairwise_tukeyhsd(endog=df_melt['value'], groups=df_melt['variable'], alpha=alpha)\n",
    "print(m_comp)"
   ]
  },
  {
   "cell_type": "markdown",
   "metadata": {},
   "source": [
    "#### Nhận xét: Ngoại trừ cặp (A,D) và (B,C), tất cả các cặp so sánh khác đều bác bỏ H0, chỉ ra các cặp xe đó có sự khác biệt đáng kể về mặt thống kê"
   ]
  },
  {
   "cell_type": "code",
   "execution_count": null,
   "metadata": {},
   "outputs": [],
   "source": []
  }
 ]
}