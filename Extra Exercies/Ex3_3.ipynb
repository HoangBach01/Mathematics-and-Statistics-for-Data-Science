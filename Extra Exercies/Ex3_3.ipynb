{
 "cells": [
  {
   "cell_type": "code",
   "execution_count": 1,
   "metadata": {},
   "outputs": [],
   "source": [
    "import numpy as np"
   ]
  },
  {
   "cell_type": "code",
   "execution_count": 2,
   "metadata": {},
   "outputs": [
    {
     "output_type": "execute_result",
     "data": {
      "text/plain": "array([[ 8,  8,  9, 10,  7,  9],\n       [ 8,  8, 10,  5,  7,  2],\n       [ 7,  7,  9, 10,  1,  2],\n       [ 9,  4,  5,  3,  8,  9]])"
     },
     "metadata": {},
     "execution_count": 2
    }
   ],
   "source": [
    "A = np.random.randint(1,11, size=(4,6))\n",
    "A"
   ]
  },
  {
   "cell_type": "code",
   "execution_count": 8,
   "metadata": {},
   "outputs": [
    {
     "output_type": "execute_result",
     "data": {
      "text/plain": "array([[-0.2267886 , -0.04236157,  0.17937342,  0.20478031],\n       [ 0.07337448,  0.06522978, -0.06058992, -0.08479676],\n       [-0.00288989,  0.06400621, -0.00138499, -0.03396517],\n       [ 0.08389033, -0.06601912,  0.03908756, -0.0542446 ],\n       [ 0.09595928,  0.09717166, -0.15366012, -0.05954023],\n       [ 0.08252264, -0.08655688, -0.02811754,  0.03389397]])"
     },
     "metadata": {},
     "execution_count": 8
    }
   ],
   "source": [
    "A_pesudo_inv = np.linalg.pinv(A)\n",
    "A_pesudo_inv"
   ]
  },
  {
   "cell_type": "code",
   "execution_count": 5,
   "metadata": {},
   "outputs": [
    {
     "output_type": "execute_result",
     "data": {
      "text/plain": "array([[ 1.00000000e+00, -3.33066907e-16,  6.10622664e-16,\n         9.99200722e-16],\n       [-8.88178420e-16,  1.00000000e+00,  4.44089210e-16,\n         6.66133815e-16],\n       [-2.22044605e-16,  2.22044605e-16,  1.00000000e+00,\n         2.22044605e-16],\n       [-8.88178420e-16, -1.11022302e-16,  4.99600361e-16,\n         1.00000000e+00]])"
     },
     "metadata": {},
     "execution_count": 5
    }
   ],
   "source": [
    "A @ A_pesudo_inv"
   ]
  },
  {
   "cell_type": "code",
   "execution_count": 7,
   "metadata": {},
   "outputs": [
    {
     "output_type": "execute_result",
     "data": {
      "text/plain": "array([[ 0.94543527, -0.07846626,  0.17354914, -0.0716188 , -0.06643536,\n         0.07594902],\n       [-0.07846626,  0.34551756,  0.34337499,  0.19960419,  0.23126577,\n        -0.09352085],\n       [ 0.17354914,  0.34337499,  0.43176238,  0.17538679,  0.15470791,\n        -0.20645308],\n       [-0.0716188 ,  0.19960419,  0.17538679,  0.7369495 , -0.26977078,\n         0.21294847],\n       [-0.06643536,  0.23126577,  0.15470791, -0.26977078,  0.72193463,\n         0.21479454],\n       [ 0.07594902, -0.09352085, -0.20645308,  0.21294847,  0.21479454,\n         0.81840065]])"
     },
     "metadata": {},
     "execution_count": 7
    }
   ],
   "source": [
    "A_pesudo_inv @ A"
   ]
  },
  {
   "cell_type": "code",
   "execution_count": 10,
   "metadata": {},
   "outputs": [
    {
     "output_type": "execute_result",
     "data": {
      "text/plain": "True"
     },
     "metadata": {},
     "execution_count": 10
    }
   ],
   "source": [
    "np.allclose(A, A @ A_pesudo_inv @ A)"
   ]
  },
  {
   "cell_type": "code",
   "execution_count": 11,
   "metadata": {},
   "outputs": [
    {
     "output_type": "execute_result",
     "data": {
      "text/plain": "True"
     },
     "metadata": {},
     "execution_count": 11
    }
   ],
   "source": [
    "np.allclose(A_pesudo_inv, A_pesudo_inv @ A @ A_pesudo_inv)"
   ]
  },
  {
   "cell_type": "code",
   "execution_count": null,
   "metadata": {},
   "outputs": [],
   "source": []
  }
 ],
 "metadata": {
  "language_info": {
   "codemirror_mode": {
    "name": "ipython",
    "version": 3
   },
   "file_extension": ".py",
   "mimetype": "text/x-python",
   "name": "python",
   "nbconvert_exporter": "python",
   "pygments_lexer": "ipython3",
   "version": "3.7.7-final"
  },
  "orig_nbformat": 2,
  "kernelspec": {
   "name": "python37764bitailearncondac55bf7adc40a450a9629c3e2b471f312",
   "display_name": "Python 3.7.7 64-bit ('ai_learn': conda)"
  }
 },
 "nbformat": 4,
 "nbformat_minor": 2
}