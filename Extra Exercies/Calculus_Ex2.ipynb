{
 "metadata": {
  "language_info": {
   "codemirror_mode": {
    "name": "ipython",
    "version": 3
   },
   "file_extension": ".py",
   "mimetype": "text/x-python",
   "name": "python",
   "nbconvert_exporter": "python",
   "pygments_lexer": "ipython3",
   "version": "3.7.7-final"
  },
  "orig_nbformat": 2,
  "kernelspec": {
   "name": "python37764bitailearncondac55bf7adc40a450a9629c3e2b471f312",
   "display_name": "Python 3.7.7 64-bit ('ai_learn': conda)"
  }
 },
 "nbformat": 4,
 "nbformat_minor": 2,
 "cells": [
  {
   "cell_type": "code",
   "execution_count": 5,
   "metadata": {},
   "outputs": [],
   "source": [
    "from math import *\n",
    "import sympy as sp"
   ]
  },
  {
   "cell_type": "code",
   "execution_count": 12,
   "metadata": {},
   "outputs": [],
   "source": [
    "# Cau 1:"
   ]
  },
  {
   "cell_type": "code",
   "execution_count": 6,
   "metadata": {},
   "outputs": [],
   "source": [
    "x = sp.Symbol('x')\n",
    "y = sp.Symbol('y')\n",
    "z = sp.Symbol('z')"
   ]
  },
  {
   "cell_type": "code",
   "execution_count": 8,
   "metadata": {},
   "outputs": [],
   "source": [
    "w = x**2 *y - 10 * y**2 * z**3 + 43*x - 7 * sp.tan(4*y)"
   ]
  },
  {
   "cell_type": "code",
   "execution_count": 10,
   "metadata": {},
   "outputs": [
    {
     "output_type": "execute_result",
     "data": {
      "text/plain": "2*x*y + 43",
      "text/latex": "$\\displaystyle 2 x y + 43$"
     },
     "metadata": {},
     "execution_count": 10
    }
   ],
   "source": [
    "w_x = sp.diff(w, x)\n",
    "w_x"
   ]
  },
  {
   "cell_type": "code",
   "execution_count": 11,
   "metadata": {},
   "outputs": [
    {
     "output_type": "execute_result",
     "data": {
      "text/plain": "6*y + 43",
      "text/latex": "$\\displaystyle 6 y + 43$"
     },
     "metadata": {},
     "execution_count": 11
    }
   ],
   "source": [
    "w_x.subs({x:3})"
   ]
  },
  {
   "cell_type": "code",
   "execution_count": 13,
   "metadata": {},
   "outputs": [],
   "source": [
    "# Cau 2:"
   ]
  },
  {
   "cell_type": "code",
   "execution_count": 15,
   "metadata": {},
   "outputs": [],
   "source": [
    "s = sp.Symbol('s')\n",
    "t = sp.Symbol('t')"
   ]
  },
  {
   "cell_type": "code",
   "execution_count": 16,
   "metadata": {},
   "outputs": [],
   "source": [
    "h = t**7 * sp.ln(s**2) + 9/t**3 - s**(4/7)"
   ]
  },
  {
   "cell_type": "code",
   "execution_count": 19,
   "metadata": {},
   "outputs": [
    {
     "output_type": "execute_result",
     "data": {
      "text/plain": "7*t**6*log(s**2) - 27/t**4",
      "text/latex": "$\\displaystyle 7 t^{6} \\log{\\left(s^{2} \\right)} - \\frac{27}{t^{4}}$"
     },
     "metadata": {},
     "execution_count": 19
    }
   ],
   "source": [
    "h_t = sp.diff(h, t)\n",
    "h_t"
   ]
  },
  {
   "cell_type": "code",
   "execution_count": 20,
   "metadata": {},
   "outputs": [
    {
     "output_type": "execute_result",
     "data": {
      "text/plain": "448*log(s**2) - 27/16",
      "text/latex": "$\\displaystyle 448 \\log{\\left(s^{2} \\right)} - \\frac{27}{16}$"
     },
     "metadata": {},
     "execution_count": 20
    }
   ],
   "source": [
    "h_t.subs({t:2})"
   ]
  },
  {
   "cell_type": "code",
   "execution_count": 21,
   "metadata": {},
   "outputs": [],
   "source": [
    "# Cau 3:"
   ]
  },
  {
   "cell_type": "code",
   "execution_count": 22,
   "metadata": {},
   "outputs": [],
   "source": [
    "x = sp.Symbol('x')\n",
    "y = sp.Symbol('y')"
   ]
  },
  {
   "cell_type": "code",
   "execution_count": 25,
   "metadata": {},
   "outputs": [],
   "source": [
    "f = sp.cos(4/x) * sp.exp(x**2 * y - 5 * y**3)"
   ]
  },
  {
   "cell_type": "code",
   "execution_count": 26,
   "metadata": {},
   "outputs": [
    {
     "output_type": "execute_result",
     "data": {
      "text/plain": "2*x*y*exp(x**2*y - 5*y**3)*cos(4/x) + 4*exp(x**2*y - 5*y**3)*sin(4/x)/x**2",
      "text/latex": "$\\displaystyle 2 x y e^{x^{2} y - 5 y^{3}} \\cos{\\left(\\frac{4}{x} \\right)} + \\frac{4 e^{x^{2} y - 5 y^{3}} \\sin{\\left(\\frac{4}{x} \\right)}}{x^{2}}$"
     },
     "metadata": {},
     "execution_count": 26
    }
   ],
   "source": [
    "f_x = sp.diff(f, x)\n",
    "f_x"
   ]
  },
  {
   "cell_type": "code",
   "execution_count": 27,
   "metadata": {},
   "outputs": [
    {
     "output_type": "execute_result",
     "data": {
      "text/plain": "2*y*exp(-5*y**3 + y)*cos(4) + 4*exp(-5*y**3 + y)*sin(4)",
      "text/latex": "$\\displaystyle 2 y e^{- 5 y^{3} + y} \\cos{\\left(4 \\right)} + 4 e^{- 5 y^{3} + y} \\sin{\\left(4 \\right)}$"
     },
     "metadata": {},
     "execution_count": 27
    }
   ],
   "source": [
    "f_x.subs({x:1})"
   ]
  },
  {
   "cell_type": "code",
   "execution_count": null,
   "metadata": {},
   "outputs": [],
   "source": []
  }
 ]
}